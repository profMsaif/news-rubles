{
 "cells": [
  {
   "cell_type": "code",
   "execution_count": 1,
   "id": "d4d31749",
   "metadata": {
    "execution": {
     "iopub.execute_input": "2022-04-27T09:34:36.383820Z",
     "iopub.status.busy": "2022-04-27T09:34:36.383113Z",
     "iopub.status.idle": "2022-04-27T09:34:36.395619Z",
     "shell.execute_reply": "2022-04-27T09:34:36.394874Z"
    },
    "papermill": {
     "duration": 0.032656,
     "end_time": "2022-04-27T09:34:36.397984",
     "exception": false,
     "start_time": "2022-04-27T09:34:36.365328",
     "status": "completed"
    },
    "tags": []
   },
   "outputs": [],
   "source": [
    "import urllib.request\n",
    "url = \"https://www.moex.com/export/news.aspx?cat=100\""
   ]
  },
  {
   "cell_type": "code",
   "execution_count": 2,
   "id": "ace5d8c7",
   "metadata": {
    "execution": {
     "iopub.execute_input": "2022-04-27T09:34:36.429108Z",
     "iopub.status.busy": "2022-04-27T09:34:36.428636Z",
     "iopub.status.idle": "2022-04-27T09:34:39.577493Z",
     "shell.execute_reply": "2022-04-27T09:34:39.576673Z"
    },
    "papermill": {
     "duration": 3.167068,
     "end_time": "2022-04-27T09:34:39.579993",
     "exception": false,
     "start_time": "2022-04-27T09:34:36.412925",
     "status": "completed"
    },
    "tags": []
   },
   "outputs": [],
   "source": [
    "webFile = urllib.request.urlopen(url)\n",
    "data = webFile.read()"
   ]
  },
  {
   "cell_type": "code",
   "execution_count": 3,
   "id": "06a2e877",
   "metadata": {
    "execution": {
     "iopub.execute_input": "2022-04-27T09:34:39.612602Z",
     "iopub.status.busy": "2022-04-27T09:34:39.612060Z",
     "iopub.status.idle": "2022-04-27T09:34:39.615974Z",
     "shell.execute_reply": "2022-04-27T09:34:39.615250Z"
    },
    "papermill": {
     "duration": 0.021215,
     "end_time": "2022-04-27T09:34:39.617981",
     "exception": false,
     "start_time": "2022-04-27T09:34:39.596766",
     "status": "completed"
    },
    "tags": []
   },
   "outputs": [],
   "source": [
    "FileName =\"news_moex\""
   ]
  },
  {
   "cell_type": "code",
   "execution_count": 4,
   "id": "d87ce8ff",
   "metadata": {
    "execution": {
     "iopub.execute_input": "2022-04-27T09:34:39.647767Z",
     "iopub.status.busy": "2022-04-27T09:34:39.647240Z",
     "iopub.status.idle": "2022-04-27T09:34:39.655099Z",
     "shell.execute_reply": "2022-04-27T09:34:39.654429Z"
    },
    "papermill": {
     "duration": 0.02507,
     "end_time": "2022-04-27T09:34:39.657114",
     "exception": false,
     "start_time": "2022-04-27T09:34:39.632044",
     "status": "completed"
    },
    "tags": []
   },
   "outputs": [],
   "source": [
    "with open(FileName, \"wb\") as localFile:\n",
    "    localFile.write(data)"
   ]
  },
  {
   "cell_type": "code",
   "execution_count": 5,
   "id": "39325bf2",
   "metadata": {
    "execution": {
     "iopub.execute_input": "2022-04-27T09:34:39.687424Z",
     "iopub.status.busy": "2022-04-27T09:34:39.686364Z",
     "iopub.status.idle": "2022-04-27T09:34:39.690945Z",
     "shell.execute_reply": "2022-04-27T09:34:39.690179Z"
    },
    "papermill": {
     "duration": 0.021745,
     "end_time": "2022-04-27T09:34:39.692976",
     "exception": false,
     "start_time": "2022-04-27T09:34:39.671231",
     "status": "completed"
    },
    "tags": []
   },
   "outputs": [],
   "source": [
    "webFile.close()"
   ]
  },
  {
   "cell_type": "code",
   "execution_count": 6,
   "id": "a7fb80f2",
   "metadata": {
    "execution": {
     "iopub.execute_input": "2022-04-27T09:34:39.723080Z",
     "iopub.status.busy": "2022-04-27T09:34:39.722579Z",
     "iopub.status.idle": "2022-04-27T09:34:39.726319Z",
     "shell.execute_reply": "2022-04-27T09:34:39.725716Z"
    },
    "papermill": {
     "duration": 0.020802,
     "end_time": "2022-04-27T09:34:39.728284",
     "exception": false,
     "start_time": "2022-04-27T09:34:39.707482",
     "status": "completed"
    },
    "tags": []
   },
   "outputs": [],
   "source": [
    "from xml.dom import minidom"
   ]
  },
  {
   "cell_type": "code",
   "execution_count": 7,
   "id": "524c86a5",
   "metadata": {
    "execution": {
     "iopub.execute_input": "2022-04-27T09:34:39.759175Z",
     "iopub.status.busy": "2022-04-27T09:34:39.758616Z",
     "iopub.status.idle": "2022-04-27T09:34:40.047733Z",
     "shell.execute_reply": "2022-04-27T09:34:40.046857Z"
    },
    "papermill": {
     "duration": 0.307574,
     "end_time": "2022-04-27T09:34:40.050190",
     "exception": false,
     "start_time": "2022-04-27T09:34:39.742616",
     "status": "completed"
    },
    "tags": []
   },
   "outputs": [],
   "source": [
    "doc = minidom.parse(FileName)"
   ]
  },
  {
   "cell_type": "code",
   "execution_count": 8,
   "id": "7e1b9880",
   "metadata": {
    "execution": {
     "iopub.execute_input": "2022-04-27T09:34:40.080009Z",
     "iopub.status.busy": "2022-04-27T09:34:40.079693Z",
     "iopub.status.idle": "2022-04-27T09:34:40.087926Z",
     "shell.execute_reply": "2022-04-27T09:34:40.086933Z"
    },
    "papermill": {
     "duration": 0.026925,
     "end_time": "2022-04-27T09:34:40.091288",
     "exception": false,
     "start_time": "2022-04-27T09:34:40.064363",
     "status": "completed"
    },
    "tags": []
   },
   "outputs": [
    {
     "data": {
      "text/plain": [
       "<xml.dom.minidom.Document at 0x7fa51f9c9d70>"
      ]
     },
     "execution_count": 8,
     "metadata": {},
     "output_type": "execute_result"
    }
   ],
   "source": [
    "doc"
   ]
  },
  {
   "cell_type": "code",
   "execution_count": 9,
   "id": "f8c9d1ba",
   "metadata": {
    "execution": {
     "iopub.execute_input": "2022-04-27T09:34:40.122507Z",
     "iopub.status.busy": "2022-04-27T09:34:40.122236Z",
     "iopub.status.idle": "2022-04-27T09:34:40.143859Z",
     "shell.execute_reply": "2022-04-27T09:34:40.142780Z"
    },
    "papermill": {
     "duration": 0.03966,
     "end_time": "2022-04-27T09:34:40.145972",
     "exception": false,
     "start_time": "2022-04-27T09:34:40.106312",
     "status": "completed"
    },
    "tags": []
   },
   "outputs": [],
   "source": [
    "root = doc.getElementsByTagName(\"channel\")[0]"
   ]
  },
  {
   "cell_type": "code",
   "execution_count": 10,
   "id": "c9dc0b28",
   "metadata": {
    "execution": {
     "iopub.execute_input": "2022-04-27T09:34:40.176275Z",
     "iopub.status.busy": "2022-04-27T09:34:40.176010Z",
     "iopub.status.idle": "2022-04-27T09:34:40.180452Z",
     "shell.execute_reply": "2022-04-27T09:34:40.179361Z"
    },
    "papermill": {
     "duration": 0.022212,
     "end_time": "2022-04-27T09:34:40.182619",
     "exception": false,
     "start_time": "2022-04-27T09:34:40.160407",
     "status": "completed"
    },
    "tags": []
   },
   "outputs": [],
   "source": [
    "head = \"Дата;Название;Ссылка;Номер \\n\""
   ]
  },
  {
   "cell_type": "code",
   "execution_count": 11,
   "id": "b3dad9bf",
   "metadata": {
    "execution": {
     "iopub.execute_input": "2022-04-27T09:34:40.214504Z",
     "iopub.status.busy": "2022-04-27T09:34:40.214203Z",
     "iopub.status.idle": "2022-04-27T09:34:40.235981Z",
     "shell.execute_reply": "2022-04-27T09:34:40.235053Z"
    },
    "papermill": {
     "duration": 0.040515,
     "end_time": "2022-04-27T09:34:40.238393",
     "exception": false,
     "start_time": "2022-04-27T09:34:40.197878",
     "status": "completed"
    },
    "tags": []
   },
   "outputs": [],
   "source": [
    "news_item = doc.getElementsByTagName(\"item\")"
   ]
  },
  {
   "cell_type": "code",
   "execution_count": 12,
   "id": "e15cfcb4",
   "metadata": {
    "execution": {
     "iopub.execute_input": "2022-04-27T09:34:40.271194Z",
     "iopub.status.busy": "2022-04-27T09:34:40.270910Z",
     "iopub.status.idle": "2022-04-27T09:34:40.333995Z",
     "shell.execute_reply": "2022-04-27T09:34:40.333170Z"
    },
    "papermill": {
     "duration": 0.082896,
     "end_time": "2022-04-27T09:34:40.336394",
     "exception": false,
     "start_time": "2022-04-27T09:34:40.253498",
     "status": "completed"
    },
    "tags": []
   },
   "outputs": [],
   "source": [
    "with open(\"news_moex.txt\",\"w\") as out:\n",
    "#     out.write(date)\n",
    "    out.write(head)\n",
    "    for rate in news_item:\n",
    "        pubDate = rate.getElementsByTagName(\"pubDate\")[0]\n",
    "        title = rate.getElementsByTagName(\"title\")[0]\n",
    "        link = rate.getElementsByTagName(\"link\")[0]\n",
    "#         guid = rate.getElementsByTagName(\"guid\")[0]\n",
    "        str = \"{0}; {1}; {2} \\n\".format(pubDate.firstChild.data,\n",
    "        title.firstChild.data, \n",
    "        link.firstChild.data)\n",
    "        out.write(str)"
   ]
  }
 ],
 "metadata": {
  "kernelspec": {
   "display_name": "Python 3",
   "language": "python",
   "name": "python3"
  },
  "language_info": {
   "codemirror_mode": {
    "name": "ipython",
    "version": 3
   },
   "file_extension": ".py",
   "mimetype": "text/x-python",
   "name": "python",
   "nbconvert_exporter": "python",
   "pygments_lexer": "ipython3",
   "version": "3.7.12"
  },
  "papermill": {
   "default_parameters": {},
   "duration": 14.260095,
   "end_time": "2022-04-27T09:34:40.970764",
   "environment_variables": {},
   "exception": null,
   "input_path": "__notebook__.ipynb",
   "output_path": "__notebook__.ipynb",
   "parameters": {},
   "start_time": "2022-04-27T09:34:26.710669",
   "version": "2.3.4"
  }
 },
 "nbformat": 4,
 "nbformat_minor": 5
}
