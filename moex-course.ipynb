{
 "cells": [
  {
   "cell_type": "code",
   "execution_count": 1,
   "id": "2c1a1fb4",
   "metadata": {
    "execution": {
     "iopub.execute_input": "2022-04-27T09:28:06.324963Z",
     "iopub.status.busy": "2022-04-27T09:28:06.324603Z",
     "iopub.status.idle": "2022-04-27T09:28:06.334150Z",
     "shell.execute_reply": "2022-04-27T09:28:06.333389Z"
    },
    "papermill": {
     "duration": 0.020226,
     "end_time": "2022-04-27T09:28:06.336332",
     "exception": false,
     "start_time": "2022-04-27T09:28:06.316106",
     "status": "completed"
    },
    "tags": []
   },
   "outputs": [],
   "source": [
    "import urllib.request\n",
    "url = \"https://iss.moex.com/iss/engines/currency/markets/selt/boardgroups/13/securities/USD000000TOD\""
   ]
  },
  {
   "cell_type": "code",
   "execution_count": 2,
   "id": "4f2131b2",
   "metadata": {
    "execution": {
     "iopub.execute_input": "2022-04-27T09:28:06.350299Z",
     "iopub.status.busy": "2022-04-27T09:28:06.349996Z",
     "iopub.status.idle": "2022-04-27T09:28:08.095498Z",
     "shell.execute_reply": "2022-04-27T09:28:08.094648Z"
    },
    "papermill": {
     "duration": 1.755352,
     "end_time": "2022-04-27T09:28:08.098080",
     "exception": false,
     "start_time": "2022-04-27T09:28:06.342728",
     "status": "completed"
    },
    "tags": []
   },
   "outputs": [
    {
     "name": "stdout",
     "output_type": "stream",
     "text": [
      "[{'LAST': 75.91, 'SECID': 'EUR_RUB__TOD', 'UPDATETIME': '12:13:04'}]\n",
      "[{'LAST': 72.7, 'SECID': 'USD000000TOD', 'UPDATETIME': '12:13:07'}]\n"
     ]
    }
   ],
   "source": [
    "from urllib import parse\n",
    "import requests\n",
    "import json\n",
    "# import pandas as pd\n",
    "# pd.set_option(\"display.max_columns\", 15)\n",
    "\n",
    "\n",
    "# from config import get_path\n",
    "\n",
    "\n",
    "def flatten(j: dict, blockname: str):\n",
    "    return [{k: r[i] for i, k in enumerate(j[blockname]['columns'])} for r in j[blockname]['data']]\n",
    "\n",
    "\n",
    "def query(url):\n",
    "    \"\"\"\n",
    "    Отправляю запрос к ISS MOEX\n",
    "    :param method:\n",
    "    :param kwargs:\n",
    "    :return:\n",
    "    \"\"\"\n",
    "    try:\n",
    "        headers = {\n",
    "            \"user-agent\": \"Mozilla/5.0 (Windows NT 10.0; Win64; x64) AppleWebKit/537.36 (KHTML, like Gecko) Chrome/98.0.4758.141 YaBrowser/22.3.2.644 Yowser/2.5 Safari/537.36\",\n",
    "            \"Accept\": \"text/html,application/xhtml+xml,application/xml;q=0.9,image/avif,image/webp,image/apng,*/*;q=0.8,application/signed-exchange;v=b3;q=0.9\"\n",
    "        }\n",
    "        r = requests.get(url, headers)\n",
    "        r.encoding = 'utf-8'\n",
    "        j = r.json()\n",
    "        return j\n",
    "\n",
    "    except Exception as e:\n",
    "        print(\"query error %s\" % str(e))\n",
    "        return None\n",
    "\n",
    "urlEUR = \"https://iss.moex.com/iss/engines/currency/markets/selt/boardgroups/13/securities/EUR_RUB__TOD.json?marketdata.columns=LAST,SECID,UPDATETIME&iss.meta=off\"\n",
    "urlUSD = \"https://iss.moex.com/iss/engines/currency/markets/selt/boardgroups/13/securities/USD000000TOD.json?marketdata.columns=LAST,SECID,UPDATETIME&iss.meta=off\"\n",
    "eur = query(urlEUR)\n",
    "usd = query(urlUSD)\n",
    "eurDict = flatten(eur, 'marketdata')\n",
    "usdDict = flatten(usd, 'marketdata')\n",
    "print(eurDict)\n",
    "print(usdDict)"
   ]
  },
  {
   "cell_type": "code",
   "execution_count": 3,
   "id": "a6372d19",
   "metadata": {
    "execution": {
     "iopub.execute_input": "2022-04-27T09:28:08.114573Z",
     "iopub.status.busy": "2022-04-27T09:28:08.114041Z",
     "iopub.status.idle": "2022-04-27T09:28:08.117465Z",
     "shell.execute_reply": "2022-04-27T09:28:08.116891Z"
    },
    "papermill": {
     "duration": 0.012912,
     "end_time": "2022-04-27T09:28:08.119285",
     "exception": false,
     "start_time": "2022-04-27T09:28:08.106373",
     "status": "completed"
    },
    "tags": []
   },
   "outputs": [],
   "source": [
    "eur =eurDict[0]\n",
    "usd =usdDict[0]"
   ]
  },
  {
   "cell_type": "code",
   "execution_count": 4,
   "id": "b0abddb7",
   "metadata": {
    "execution": {
     "iopub.execute_input": "2022-04-27T09:28:08.134159Z",
     "iopub.status.busy": "2022-04-27T09:28:08.133643Z",
     "iopub.status.idle": "2022-04-27T09:28:08.138448Z",
     "shell.execute_reply": "2022-04-27T09:28:08.137250Z"
    },
    "papermill": {
     "duration": 0.014903,
     "end_time": "2022-04-27T09:28:08.140825",
     "exception": false,
     "start_time": "2022-04-27T09:28:08.125922",
     "status": "completed"
    },
    "tags": []
   },
   "outputs": [
    {
     "name": "stdout",
     "output_type": "stream",
     "text": [
      "75.91\n",
      "72.7\n"
     ]
    }
   ],
   "source": [
    "print(eur['LAST'])\n",
    "print(usd['LAST'])"
   ]
  },
  {
   "cell_type": "code",
   "execution_count": null,
   "id": "f59fdc18",
   "metadata": {
    "papermill": {
     "duration": 0.00671,
     "end_time": "2022-04-27T09:28:08.155346",
     "exception": false,
     "start_time": "2022-04-27T09:28:08.148636",
     "status": "completed"
    },
    "tags": []
   },
   "outputs": [],
   "source": []
  }
 ],
 "metadata": {
  "kernelspec": {
   "display_name": "Python 3",
   "language": "python",
   "name": "python3"
  },
  "language_info": {
   "codemirror_mode": {
    "name": "ipython",
    "version": 3
   },
   "file_extension": ".py",
   "mimetype": "text/x-python",
   "name": "python",
   "nbconvert_exporter": "python",
   "pygments_lexer": "ipython3",
   "version": "3.7.12"
  },
  "papermill": {
   "default_parameters": {},
   "duration": 12.556431,
   "end_time": "2022-04-27T09:28:08.782235",
   "environment_variables": {},
   "exception": null,
   "input_path": "__notebook__.ipynb",
   "output_path": "__notebook__.ipynb",
   "parameters": {},
   "start_time": "2022-04-27T09:27:56.225804",
   "version": "2.3.4"
  }
 },
 "nbformat": 4,
 "nbformat_minor": 5
}
