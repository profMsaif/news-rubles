{
 "cells": [
  {
   "cell_type": "code",
   "execution_count": 1,
   "id": "5ded7090",
   "metadata": {
    "execution": {
     "iopub.execute_input": "2022-04-27T09:41:54.545196Z",
     "iopub.status.busy": "2022-04-27T09:41:54.544570Z",
     "iopub.status.idle": "2022-04-27T09:41:54.554328Z",
     "shell.execute_reply": "2022-04-27T09:41:54.553486Z"
    },
    "papermill": {
     "duration": 0.030388,
     "end_time": "2022-04-27T09:41:54.556726",
     "exception": false,
     "start_time": "2022-04-27T09:41:54.526338",
     "status": "completed"
    },
    "tags": []
   },
   "outputs": [],
   "source": [
    "import urllib.request\n",
    "url = \"https://cbr.ru/rss/eventrss\""
   ]
  },
  {
   "cell_type": "code",
   "execution_count": 2,
   "id": "183dad79",
   "metadata": {
    "execution": {
     "iopub.execute_input": "2022-04-27T09:41:54.589570Z",
     "iopub.status.busy": "2022-04-27T09:41:54.588984Z",
     "iopub.status.idle": "2022-04-27T09:41:55.322096Z",
     "shell.execute_reply": "2022-04-27T09:41:55.321299Z"
    },
    "papermill": {
     "duration": 0.752105,
     "end_time": "2022-04-27T09:41:55.324203",
     "exception": false,
     "start_time": "2022-04-27T09:41:54.572098",
     "status": "completed"
    },
    "tags": []
   },
   "outputs": [],
   "source": [
    "webFile = urllib.request.urlopen(url)\n",
    "data = webFile.read()"
   ]
  },
  {
   "cell_type": "code",
   "execution_count": 3,
   "id": "3cf6d20d",
   "metadata": {
    "execution": {
     "iopub.execute_input": "2022-04-27T09:41:55.356097Z",
     "iopub.status.busy": "2022-04-27T09:41:55.355565Z",
     "iopub.status.idle": "2022-04-27T09:41:55.359578Z",
     "shell.execute_reply": "2022-04-27T09:41:55.358725Z"
    },
    "papermill": {
     "duration": 0.022298,
     "end_time": "2022-04-27T09:41:55.361659",
     "exception": false,
     "start_time": "2022-04-27T09:41:55.339361",
     "status": "completed"
    },
    "tags": []
   },
   "outputs": [],
   "source": [
    "FileName =\"news\""
   ]
  },
  {
   "cell_type": "code",
   "execution_count": 4,
   "id": "00dca019",
   "metadata": {
    "execution": {
     "iopub.execute_input": "2022-04-27T09:41:55.393693Z",
     "iopub.status.busy": "2022-04-27T09:41:55.393417Z",
     "iopub.status.idle": "2022-04-27T09:41:55.397796Z",
     "shell.execute_reply": "2022-04-27T09:41:55.396970Z"
    },
    "papermill": {
     "duration": 0.022731,
     "end_time": "2022-04-27T09:41:55.399910",
     "exception": false,
     "start_time": "2022-04-27T09:41:55.377179",
     "status": "completed"
    },
    "tags": []
   },
   "outputs": [],
   "source": [
    "with open(FileName, \"wb\") as localFile:\n",
    "    localFile.write(data)"
   ]
  },
  {
   "cell_type": "code",
   "execution_count": 5,
   "id": "02ac5635",
   "metadata": {
    "execution": {
     "iopub.execute_input": "2022-04-27T09:41:55.431276Z",
     "iopub.status.busy": "2022-04-27T09:41:55.431007Z",
     "iopub.status.idle": "2022-04-27T09:41:55.434905Z",
     "shell.execute_reply": "2022-04-27T09:41:55.434099Z"
    },
    "papermill": {
     "duration": 0.022078,
     "end_time": "2022-04-27T09:41:55.436950",
     "exception": false,
     "start_time": "2022-04-27T09:41:55.414872",
     "status": "completed"
    },
    "tags": []
   },
   "outputs": [],
   "source": [
    "webFile.close()"
   ]
  },
  {
   "cell_type": "code",
   "execution_count": 6,
   "id": "47d96035",
   "metadata": {
    "execution": {
     "iopub.execute_input": "2022-04-27T09:41:55.468958Z",
     "iopub.status.busy": "2022-04-27T09:41:55.468002Z",
     "iopub.status.idle": "2022-04-27T09:41:55.472483Z",
     "shell.execute_reply": "2022-04-27T09:41:55.471741Z"
    },
    "papermill": {
     "duration": 0.022587,
     "end_time": "2022-04-27T09:41:55.474627",
     "exception": false,
     "start_time": "2022-04-27T09:41:55.452040",
     "status": "completed"
    },
    "tags": []
   },
   "outputs": [],
   "source": [
    "from xml.dom import minidom"
   ]
  },
  {
   "cell_type": "code",
   "execution_count": 7,
   "id": "5d682429",
   "metadata": {
    "execution": {
     "iopub.execute_input": "2022-04-27T09:41:55.506595Z",
     "iopub.status.busy": "2022-04-27T09:41:55.505597Z",
     "iopub.status.idle": "2022-04-27T09:41:55.519236Z",
     "shell.execute_reply": "2022-04-27T09:41:55.518569Z"
    },
    "papermill": {
     "duration": 0.031611,
     "end_time": "2022-04-27T09:41:55.521483",
     "exception": false,
     "start_time": "2022-04-27T09:41:55.489872",
     "status": "completed"
    },
    "tags": []
   },
   "outputs": [],
   "source": [
    "doc = minidom.parse(FileName)"
   ]
  },
  {
   "cell_type": "code",
   "execution_count": 8,
   "id": "ce79e390",
   "metadata": {
    "execution": {
     "iopub.execute_input": "2022-04-27T09:41:55.553454Z",
     "iopub.status.busy": "2022-04-27T09:41:55.552972Z",
     "iopub.status.idle": "2022-04-27T09:41:55.560621Z",
     "shell.execute_reply": "2022-04-27T09:41:55.559610Z"
    },
    "papermill": {
     "duration": 0.026008,
     "end_time": "2022-04-27T09:41:55.562688",
     "exception": false,
     "start_time": "2022-04-27T09:41:55.536680",
     "status": "completed"
    },
    "tags": []
   },
   "outputs": [
    {
     "data": {
      "text/plain": [
       "<xml.dom.minidom.Document at 0x7fb852124e50>"
      ]
     },
     "execution_count": 8,
     "metadata": {},
     "output_type": "execute_result"
    }
   ],
   "source": [
    "doc"
   ]
  },
  {
   "cell_type": "code",
   "execution_count": 9,
   "id": "be169660",
   "metadata": {
    "execution": {
     "iopub.execute_input": "2022-04-27T09:41:55.595097Z",
     "iopub.status.busy": "2022-04-27T09:41:55.594290Z",
     "iopub.status.idle": "2022-04-27T09:41:55.599749Z",
     "shell.execute_reply": "2022-04-27T09:41:55.598637Z"
    },
    "papermill": {
     "duration": 0.023756,
     "end_time": "2022-04-27T09:41:55.601918",
     "exception": false,
     "start_time": "2022-04-27T09:41:55.578162",
     "status": "completed"
    },
    "tags": []
   },
   "outputs": [],
   "source": [
    "root = doc.getElementsByTagName(\"channel\")[0]"
   ]
  },
  {
   "cell_type": "code",
   "execution_count": 10,
   "id": "bbff8357",
   "metadata": {
    "execution": {
     "iopub.execute_input": "2022-04-27T09:41:55.634873Z",
     "iopub.status.busy": "2022-04-27T09:41:55.634603Z",
     "iopub.status.idle": "2022-04-27T09:41:55.637758Z",
     "shell.execute_reply": "2022-04-27T09:41:55.637116Z"
    },
    "papermill": {
     "duration": 0.022165,
     "end_time": "2022-04-27T09:41:55.639767",
     "exception": false,
     "start_time": "2022-04-27T09:41:55.617602",
     "status": "completed"
    },
    "tags": []
   },
   "outputs": [],
   "source": [
    "# date = \"Текущий курс валют на {date}г. \\n\".format(date=\n",
    "# root.getAttribute('Date'))"
   ]
  },
  {
   "cell_type": "code",
   "execution_count": 11,
   "id": "8d1783f7",
   "metadata": {
    "execution": {
     "iopub.execute_input": "2022-04-27T09:41:55.671763Z",
     "iopub.status.busy": "2022-04-27T09:41:55.671262Z",
     "iopub.status.idle": "2022-04-27T09:41:55.674816Z",
     "shell.execute_reply": "2022-04-27T09:41:55.674201Z"
    },
    "papermill": {
     "duration": 0.021411,
     "end_time": "2022-04-27T09:41:55.676488",
     "exception": false,
     "start_time": "2022-04-27T09:41:55.655077",
     "status": "completed"
    },
    "tags": []
   },
   "outputs": [],
   "source": [
    "head = \"Дата;Название;Ссылка;Номер \\n\""
   ]
  },
  {
   "cell_type": "code",
   "execution_count": 12,
   "id": "bb3e7623",
   "metadata": {
    "execution": {
     "iopub.execute_input": "2022-04-27T09:41:55.708410Z",
     "iopub.status.busy": "2022-04-27T09:41:55.707880Z",
     "iopub.status.idle": "2022-04-27T09:41:55.712149Z",
     "shell.execute_reply": "2022-04-27T09:41:55.711574Z"
    },
    "papermill": {
     "duration": 0.022374,
     "end_time": "2022-04-27T09:41:55.713990",
     "exception": false,
     "start_time": "2022-04-27T09:41:55.691616",
     "status": "completed"
    },
    "tags": []
   },
   "outputs": [],
   "source": [
    "news_item = doc.getElementsByTagName(\"item\")"
   ]
  },
  {
   "cell_type": "code",
   "execution_count": 13,
   "id": "320179a3",
   "metadata": {
    "execution": {
     "iopub.execute_input": "2022-04-27T09:41:55.745615Z",
     "iopub.status.busy": "2022-04-27T09:41:55.745149Z",
     "iopub.status.idle": "2022-04-27T09:41:55.755835Z",
     "shell.execute_reply": "2022-04-27T09:41:55.755075Z"
    },
    "papermill": {
     "duration": 0.028827,
     "end_time": "2022-04-27T09:41:55.757824",
     "exception": false,
     "start_time": "2022-04-27T09:41:55.728997",
     "status": "completed"
    },
    "tags": []
   },
   "outputs": [],
   "source": [
    "with open(\"news.txt\",\"w\") as out:\n",
    "#     out.write(date)\n",
    "    out.write(head)\n",
    "    for rate in news_item:\n",
    "        pubDate = rate.getElementsByTagName(\"pubDate\")[0]\n",
    "        title = rate.getElementsByTagName(\"title\")[0]\n",
    "        link = rate.getElementsByTagName(\"link\")[0]\n",
    "        guid = rate.getElementsByTagName(\"guid\")[0]\n",
    "        str = \"{0}; {1}; {2}; {3} \\n\".format(pubDate.firstChild.data,\n",
    "        title.firstChild.data, \n",
    "        link.firstChild.data, guid.firstChild.data)\n",
    "        out.write(str)"
   ]
  },
  {
   "cell_type": "code",
   "execution_count": null,
   "id": "64dd8204",
   "metadata": {
    "papermill": {
     "duration": 0.014985,
     "end_time": "2022-04-27T09:41:55.787892",
     "exception": false,
     "start_time": "2022-04-27T09:41:55.772907",
     "status": "completed"
    },
    "tags": []
   },
   "outputs": [],
   "source": []
  }
 ],
 "metadata": {
  "kernelspec": {
   "display_name": "Python 3",
   "language": "python",
   "name": "python3"
  },
  "language_info": {
   "codemirror_mode": {
    "name": "ipython",
    "version": 3
   },
   "file_extension": ".py",
   "mimetype": "text/x-python",
   "name": "python",
   "nbconvert_exporter": "python",
   "pygments_lexer": "ipython3",
   "version": "3.7.12"
  },
  "papermill": {
   "default_parameters": {},
   "duration": 11.845923,
   "end_time": "2022-04-27T09:41:56.425346",
   "environment_variables": {},
   "exception": null,
   "input_path": "__notebook__.ipynb",
   "output_path": "__notebook__.ipynb",
   "parameters": {},
   "start_time": "2022-04-27T09:41:44.579423",
   "version": "2.3.4"
  }
 },
 "nbformat": 4,
 "nbformat_minor": 5
}
