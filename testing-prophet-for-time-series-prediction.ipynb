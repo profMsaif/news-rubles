{
 "cells": [
  {
   "cell_type": "code",
   "execution_count": 1,
   "metadata": {
    "_uuid": "5c3b109705a64a18b7c7aa03b07c15f1a1c235ba",
    "execution": {
     "iopub.execute_input": "2022-04-26T19:13:55.713134Z",
     "iopub.status.busy": "2022-04-26T19:13:55.712848Z",
     "iopub.status.idle": "2022-04-26T19:13:55.792266Z",
     "shell.execute_reply": "2022-04-26T19:13:55.791769Z",
     "shell.execute_reply.started": "2022-04-26T19:13:55.713084Z"
    }
   },
   "outputs": [],
   "source": [
    "# essentials\n",
    "import numpy as np \n",
    "import pandas as pd \n",
    "\n",
    "# visualizations\n",
    "import matplotlib.pyplot as plt\n",
    "import seaborn as sns\n",
    "\n",
    "# time series algorithm\n",
    "from fbprophet import Prophet\n",
    "from fbprophet.diagnostics import performance_metrics\n",
    "\n",
    "# reproducibility\n",
    "np.random.seed(34)\n",
    "\n",
    "# Jupyter magic\n",
    "%reload_ext autoreload\n",
    "%autoreload 2\n",
    "%matplotlib inline\n",
    "\n",
    "sns.set()"
   ]
  },
  {
   "cell_type": "code",
   "execution_count": 2,
   "metadata": {
    "execution": {
     "iopub.execute_input": "2022-04-26T19:13:55.793548Z",
     "iopub.status.busy": "2022-04-26T19:13:55.793189Z",
     "iopub.status.idle": "2022-04-26T19:13:55.866542Z",
     "shell.execute_reply": "2022-04-26T19:13:55.865122Z",
     "shell.execute_reply.started": "2022-04-26T19:13:55.793504Z"
    }
   },
   "outputs": [],
   "source": [
    "# df=pd.read_csv('C:/Users/pudge/Downloads/EURRUB_200217_220317 (1).txt',sep=';',parse_dates=['<DATE>'])\n",
    "# df=df.rename(columns={'<DATE>':'DATE','<OPEN>':'OPEN','<HIGH>':'HIGH','<LOW>':'LOW','<CLOSE>':'CLOSE','<VOL>':'VOL','<TIME>':'TIME'})"
   ]
  },
  {
   "cell_type": "code",
   "execution_count": 3,
   "metadata": {
    "execution": {
     "iopub.execute_input": "2022-04-26T19:13:55.868136Z",
     "iopub.status.busy": "2022-04-26T19:13:55.867834Z",
     "iopub.status.idle": "2022-04-26T19:13:55.942676Z",
     "shell.execute_reply": "2022-04-26T19:13:55.941442Z",
     "shell.execute_reply.started": "2022-04-26T19:13:55.868080Z"
    }
   },
   "outputs": [],
   "source": [
    "# df['HOUR']=hour_list"
   ]
  },
  {
   "cell_type": "code",
   "execution_count": 4,
   "metadata": {
    "execution": {
     "iopub.execute_input": "2022-04-26T19:13:55.944463Z",
     "iopub.status.busy": "2022-04-26T19:13:55.944194Z",
     "iopub.status.idle": "2022-04-26T19:13:56.016311Z",
     "shell.execute_reply": "2022-04-26T19:13:56.015769Z",
     "shell.execute_reply.started": "2022-04-26T19:13:55.944415Z"
    }
   },
   "outputs": [],
   "source": [
    "# df['HOUR_COS'] = df['HOUR'].apply(lambda x: math.cos(x * 2 * math.pi / 24))\n",
    "# df['HOUR_SIN'] =  df['HOUR'].apply(lambda x: math.sin(x * 2 * math.pi / 24))\n",
    "# df.head()"
   ]
  },
  {
   "cell_type": "code",
   "execution_count": 5,
   "metadata": {
    "execution": {
     "iopub.execute_input": "2022-04-26T19:13:56.017647Z",
     "iopub.status.busy": "2022-04-26T19:13:56.017291Z",
     "iopub.status.idle": "2022-04-26T19:13:56.091371Z",
     "shell.execute_reply": "2022-04-26T19:13:56.090269Z",
     "shell.execute_reply.started": "2022-04-26T19:13:56.017602Z"
    }
   },
   "outputs": [],
   "source": [
    "# df.to_csv('EURUB.csv')"
   ]
  },
  {
   "cell_type": "code",
   "execution_count": 6,
   "metadata": {
    "_uuid": "54658044429ad7ec3c86fc2127bb10a049c1d316",
    "execution": {
     "iopub.execute_input": "2022-04-26T19:13:56.095076Z",
     "iopub.status.busy": "2022-04-26T19:13:56.094782Z",
     "iopub.status.idle": "2022-04-26T19:13:56.269851Z",
     "shell.execute_reply": "2022-04-26T19:13:56.268943Z",
     "shell.execute_reply.started": "2022-04-26T19:13:56.095028Z"
    }
   },
   "outputs": [
    {
     "data": {
      "text/html": [
       "<div>\n",
       "<style scoped>\n",
       "    .dataframe tbody tr th:only-of-type {\n",
       "        vertical-align: middle;\n",
       "    }\n",
       "\n",
       "    .dataframe tbody tr th {\n",
       "        vertical-align: top;\n",
       "    }\n",
       "\n",
       "    .dataframe thead th {\n",
       "        text-align: right;\n",
       "    }\n",
       "</style>\n",
       "<table border=\"1\" class=\"dataframe\">\n",
       "  <thead>\n",
       "    <tr style=\"text-align: right;\">\n",
       "      <th></th>\n",
       "      <th>Unnamed: 0</th>\n",
       "      <th>DATE</th>\n",
       "      <th>TIME</th>\n",
       "      <th>OPEN</th>\n",
       "      <th>HIGH</th>\n",
       "      <th>LOW</th>\n",
       "      <th>CLOSE</th>\n",
       "      <th>VOL</th>\n",
       "      <th>HOUR</th>\n",
       "      <th>HOUR_COS</th>\n",
       "      <th>HOUR_SIN</th>\n",
       "    </tr>\n",
       "  </thead>\n",
       "  <tbody>\n",
       "    <tr>\n",
       "      <th>0</th>\n",
       "      <td>0</td>\n",
       "      <td>2020-02-17</td>\n",
       "      <td>10000</td>\n",
       "      <td>68.8092</td>\n",
       "      <td>68.8890</td>\n",
       "      <td>68.7750</td>\n",
       "      <td>68.8125</td>\n",
       "      <td>73</td>\n",
       "      <td>1</td>\n",
       "      <td>0.965926</td>\n",
       "      <td>0.258819</td>\n",
       "    </tr>\n",
       "    <tr>\n",
       "      <th>1</th>\n",
       "      <td>1</td>\n",
       "      <td>2020-02-17</td>\n",
       "      <td>20000</td>\n",
       "      <td>68.7706</td>\n",
       "      <td>68.9820</td>\n",
       "      <td>68.7182</td>\n",
       "      <td>68.7404</td>\n",
       "      <td>172</td>\n",
       "      <td>2</td>\n",
       "      <td>0.866025</td>\n",
       "      <td>0.500000</td>\n",
       "    </tr>\n",
       "    <tr>\n",
       "      <th>2</th>\n",
       "      <td>2</td>\n",
       "      <td>2020-02-17</td>\n",
       "      <td>30000</td>\n",
       "      <td>68.8468</td>\n",
       "      <td>68.8774</td>\n",
       "      <td>68.7245</td>\n",
       "      <td>68.7886</td>\n",
       "      <td>114</td>\n",
       "      <td>3</td>\n",
       "      <td>0.707107</td>\n",
       "      <td>0.707107</td>\n",
       "    </tr>\n",
       "    <tr>\n",
       "      <th>3</th>\n",
       "      <td>3</td>\n",
       "      <td>2020-02-17</td>\n",
       "      <td>40000</td>\n",
       "      <td>68.7886</td>\n",
       "      <td>68.8540</td>\n",
       "      <td>68.7750</td>\n",
       "      <td>68.8072</td>\n",
       "      <td>116</td>\n",
       "      <td>4</td>\n",
       "      <td>0.500000</td>\n",
       "      <td>0.866025</td>\n",
       "    </tr>\n",
       "    <tr>\n",
       "      <th>4</th>\n",
       "      <td>4</td>\n",
       "      <td>2020-02-17</td>\n",
       "      <td>50000</td>\n",
       "      <td>68.8091</td>\n",
       "      <td>68.8550</td>\n",
       "      <td>68.7108</td>\n",
       "      <td>68.7144</td>\n",
       "      <td>514</td>\n",
       "      <td>5</td>\n",
       "      <td>0.258819</td>\n",
       "      <td>0.965926</td>\n",
       "    </tr>\n",
       "  </tbody>\n",
       "</table>\n",
       "</div>"
      ],
      "text/plain": [
       "   Unnamed: 0        DATE   TIME    ...     HOUR  HOUR_COS  HOUR_SIN\n",
       "0           0  2020-02-17  10000    ...        1  0.965926  0.258819\n",
       "1           1  2020-02-17  20000    ...        2  0.866025  0.500000\n",
       "2           2  2020-02-17  30000    ...        3  0.707107  0.707107\n",
       "3           3  2020-02-17  40000    ...        4  0.500000  0.866025\n",
       "4           4  2020-02-17  50000    ...        5  0.258819  0.965926\n",
       "\n",
       "[5 rows x 11 columns]"
      ]
     },
     "execution_count": 6,
     "metadata": {},
     "output_type": "execute_result"
    }
   ],
   "source": [
    "df = pd.read_csv('../input/eurrub/EURUB.csv', )\n",
    "\n",
    "df.head()"
   ]
  },
  {
   "cell_type": "code",
   "execution_count": 7,
   "metadata": {
    "_uuid": "50c8249ac4ddd20aafe1e0e0ab6771dd2d949d41",
    "execution": {
     "iopub.execute_input": "2022-04-26T19:13:56.273444Z",
     "iopub.status.busy": "2022-04-26T19:13:56.273226Z",
     "iopub.status.idle": "2022-04-26T19:13:56.386686Z",
     "shell.execute_reply": "2022-04-26T19:13:56.385672Z",
     "shell.execute_reply.started": "2022-04-26T19:13:56.273401Z"
    }
   },
   "outputs": [
    {
     "name": "stdout",
     "output_type": "stream",
     "text": [
      "<class 'pandas.core.frame.DataFrame'>\n",
      "RangeIndex: 13312 entries, 0 to 13311\n",
      "Data columns (total 11 columns):\n",
      "Unnamed: 0    13312 non-null int64\n",
      "DATE          13312 non-null object\n",
      "TIME          13312 non-null int64\n",
      "OPEN          13312 non-null float64\n",
      "HIGH          13312 non-null float64\n",
      "LOW           13312 non-null float64\n",
      "CLOSE         13312 non-null float64\n",
      "VOL           13312 non-null int64\n",
      "HOUR          13312 non-null int64\n",
      "HOUR_COS      13312 non-null float64\n",
      "HOUR_SIN      13312 non-null float64\n",
      "dtypes: float64(6), int64(4), object(1)\n",
      "memory usage: 1.1+ MB\n"
     ]
    }
   ],
   "source": [
    "df.info()"
   ]
  },
  {
   "cell_type": "code",
   "execution_count": 8,
   "metadata": {
    "_uuid": "13b8bb49f39a9fb09941f9524e4978e6abfdbe56",
    "execution": {
     "iopub.execute_input": "2022-04-26T19:13:56.388083Z",
     "iopub.status.busy": "2022-04-26T19:13:56.387775Z",
     "iopub.status.idle": "2022-04-26T19:13:56.492879Z",
     "shell.execute_reply": "2022-04-26T19:13:56.491649Z",
     "shell.execute_reply.started": "2022-04-26T19:13:56.388034Z"
    }
   },
   "outputs": [],
   "source": [
    "df_day = df[df['HOUR']==12]"
   ]
  },
  {
   "cell_type": "code",
   "execution_count": 9,
   "metadata": {
    "execution": {
     "iopub.execute_input": "2022-04-26T19:13:56.495022Z",
     "iopub.status.busy": "2022-04-26T19:13:56.494672Z",
     "iopub.status.idle": "2022-04-26T19:13:56.623229Z",
     "shell.execute_reply": "2022-04-26T19:13:56.622537Z",
     "shell.execute_reply.started": "2022-04-26T19:13:56.494952Z"
    }
   },
   "outputs": [
    {
     "data": {
      "text/html": [
       "<div>\n",
       "<style scoped>\n",
       "    .dataframe tbody tr th:only-of-type {\n",
       "        vertical-align: middle;\n",
       "    }\n",
       "\n",
       "    .dataframe tbody tr th {\n",
       "        vertical-align: top;\n",
       "    }\n",
       "\n",
       "    .dataframe thead th {\n",
       "        text-align: right;\n",
       "    }\n",
       "</style>\n",
       "<table border=\"1\" class=\"dataframe\">\n",
       "  <thead>\n",
       "    <tr style=\"text-align: right;\">\n",
       "      <th></th>\n",
       "      <th>Unnamed: 0</th>\n",
       "      <th>DATE</th>\n",
       "      <th>TIME</th>\n",
       "      <th>OPEN</th>\n",
       "      <th>HIGH</th>\n",
       "      <th>LOW</th>\n",
       "      <th>CLOSE</th>\n",
       "      <th>VOL</th>\n",
       "      <th>HOUR</th>\n",
       "      <th>HOUR_COS</th>\n",
       "      <th>HOUR_SIN</th>\n",
       "    </tr>\n",
       "  </thead>\n",
       "  <tbody>\n",
       "    <tr>\n",
       "      <th>11</th>\n",
       "      <td>11</td>\n",
       "      <td>2020-02-17</td>\n",
       "      <td>120000</td>\n",
       "      <td>68.5798</td>\n",
       "      <td>68.6910</td>\n",
       "      <td>68.5224</td>\n",
       "      <td>68.6717</td>\n",
       "      <td>6560</td>\n",
       "      <td>12</td>\n",
       "      <td>-1.0</td>\n",
       "      <td>1.224647e-16</td>\n",
       "    </tr>\n",
       "    <tr>\n",
       "      <th>35</th>\n",
       "      <td>35</td>\n",
       "      <td>2020-02-18</td>\n",
       "      <td>120000</td>\n",
       "      <td>69.1413</td>\n",
       "      <td>69.1875</td>\n",
       "      <td>68.9721</td>\n",
       "      <td>69.0699</td>\n",
       "      <td>7113</td>\n",
       "      <td>12</td>\n",
       "      <td>-1.0</td>\n",
       "      <td>1.224647e-16</td>\n",
       "    </tr>\n",
       "    <tr>\n",
       "      <th>59</th>\n",
       "      <td>59</td>\n",
       "      <td>2020-02-19</td>\n",
       "      <td>120000</td>\n",
       "      <td>68.6987</td>\n",
       "      <td>68.7970</td>\n",
       "      <td>68.6419</td>\n",
       "      <td>68.7573</td>\n",
       "      <td>6924</td>\n",
       "      <td>12</td>\n",
       "      <td>-1.0</td>\n",
       "      <td>1.224647e-16</td>\n",
       "    </tr>\n",
       "    <tr>\n",
       "      <th>83</th>\n",
       "      <td>83</td>\n",
       "      <td>2020-02-20</td>\n",
       "      <td>120000</td>\n",
       "      <td>68.7061</td>\n",
       "      <td>68.9059</td>\n",
       "      <td>68.6464</td>\n",
       "      <td>68.8996</td>\n",
       "      <td>7150</td>\n",
       "      <td>12</td>\n",
       "      <td>-1.0</td>\n",
       "      <td>1.224647e-16</td>\n",
       "    </tr>\n",
       "    <tr>\n",
       "      <th>107</th>\n",
       "      <td>107</td>\n",
       "      <td>2020-02-21</td>\n",
       "      <td>120000</td>\n",
       "      <td>69.4257</td>\n",
       "      <td>69.6400</td>\n",
       "      <td>69.3659</td>\n",
       "      <td>69.5110</td>\n",
       "      <td>7496</td>\n",
       "      <td>12</td>\n",
       "      <td>-1.0</td>\n",
       "      <td>1.224647e-16</td>\n",
       "    </tr>\n",
       "  </tbody>\n",
       "</table>\n",
       "</div>"
      ],
      "text/plain": [
       "     Unnamed: 0        DATE    TIME      ...       HOUR  HOUR_COS      HOUR_SIN\n",
       "11           11  2020-02-17  120000      ...         12      -1.0  1.224647e-16\n",
       "35           35  2020-02-18  120000      ...         12      -1.0  1.224647e-16\n",
       "59           59  2020-02-19  120000      ...         12      -1.0  1.224647e-16\n",
       "83           83  2020-02-20  120000      ...         12      -1.0  1.224647e-16\n",
       "107         107  2020-02-21  120000      ...         12      -1.0  1.224647e-16\n",
       "\n",
       "[5 rows x 11 columns]"
      ]
     },
     "execution_count": 9,
     "metadata": {},
     "output_type": "execute_result"
    }
   ],
   "source": [
    "df_day.head()"
   ]
  },
  {
   "cell_type": "code",
   "execution_count": 10,
   "metadata": {
    "execution": {
     "iopub.execute_input": "2022-04-26T19:13:56.624434Z",
     "iopub.status.busy": "2022-04-26T19:13:56.624183Z",
     "iopub.status.idle": "2022-04-26T19:13:56.728064Z",
     "shell.execute_reply": "2022-04-26T19:13:56.727377Z",
     "shell.execute_reply.started": "2022-04-26T19:13:56.624380Z"
    }
   },
   "outputs": [],
   "source": [
    "from sklearn.model_selection import train_test_split\n",
    "train_columns = ['DATE','OPEN']\n",
    "train = df_day[train_columns][:-15]\n",
    "train = train.rename(columns={'DATE':'ds','OPEN':'y'})\n"
   ]
  },
  {
   "cell_type": "code",
   "execution_count": 11,
   "metadata": {
    "execution": {
     "iopub.execute_input": "2022-04-26T19:13:56.729401Z",
     "iopub.status.busy": "2022-04-26T19:13:56.729104Z",
     "iopub.status.idle": "2022-04-26T19:13:56.846131Z",
     "shell.execute_reply": "2022-04-26T19:13:56.845040Z",
     "shell.execute_reply.started": "2022-04-26T19:13:56.729355Z"
    }
   },
   "outputs": [
    {
     "data": {
      "text/html": [
       "<div>\n",
       "<style scoped>\n",
       "    .dataframe tbody tr th:only-of-type {\n",
       "        vertical-align: middle;\n",
       "    }\n",
       "\n",
       "    .dataframe tbody tr th {\n",
       "        vertical-align: top;\n",
       "    }\n",
       "\n",
       "    .dataframe thead th {\n",
       "        text-align: right;\n",
       "    }\n",
       "</style>\n",
       "<table border=\"1\" class=\"dataframe\">\n",
       "  <thead>\n",
       "    <tr style=\"text-align: right;\">\n",
       "      <th></th>\n",
       "      <th>ds</th>\n",
       "      <th>y</th>\n",
       "    </tr>\n",
       "  </thead>\n",
       "  <tbody>\n",
       "    <tr>\n",
       "      <th>12731</th>\n",
       "      <td>2022-02-07</td>\n",
       "      <td>87.4290</td>\n",
       "    </tr>\n",
       "    <tr>\n",
       "      <th>12755</th>\n",
       "      <td>2022-02-08</td>\n",
       "      <td>86.2320</td>\n",
       "    </tr>\n",
       "    <tr>\n",
       "      <th>12779</th>\n",
       "      <td>2022-02-09</td>\n",
       "      <td>85.6379</td>\n",
       "    </tr>\n",
       "    <tr>\n",
       "      <th>12803</th>\n",
       "      <td>2022-02-10</td>\n",
       "      <td>85.3108</td>\n",
       "    </tr>\n",
       "    <tr>\n",
       "      <th>12827</th>\n",
       "      <td>2022-02-11</td>\n",
       "      <td>85.7616</td>\n",
       "    </tr>\n",
       "    <tr>\n",
       "      <th>12851</th>\n",
       "      <td>2022-02-12</td>\n",
       "      <td>87.3760</td>\n",
       "    </tr>\n",
       "    <tr>\n",
       "      <th>12875</th>\n",
       "      <td>2022-02-14</td>\n",
       "      <td>87.3217</td>\n",
       "    </tr>\n",
       "    <tr>\n",
       "      <th>12899</th>\n",
       "      <td>2022-02-15</td>\n",
       "      <td>85.8882</td>\n",
       "    </tr>\n",
       "    <tr>\n",
       "      <th>12923</th>\n",
       "      <td>2022-02-16</td>\n",
       "      <td>85.6255</td>\n",
       "    </tr>\n",
       "    <tr>\n",
       "      <th>12947</th>\n",
       "      <td>2022-02-17</td>\n",
       "      <td>86.6820</td>\n",
       "    </tr>\n",
       "  </tbody>\n",
       "</table>\n",
       "</div>"
      ],
      "text/plain": [
       "               ds        y\n",
       "12731  2022-02-07  87.4290\n",
       "12755  2022-02-08  86.2320\n",
       "12779  2022-02-09  85.6379\n",
       "12803  2022-02-10  85.3108\n",
       "12827  2022-02-11  85.7616\n",
       "12851  2022-02-12  87.3760\n",
       "12875  2022-02-14  87.3217\n",
       "12899  2022-02-15  85.8882\n",
       "12923  2022-02-16  85.6255\n",
       "12947  2022-02-17  86.6820"
      ]
     },
     "execution_count": 11,
     "metadata": {},
     "output_type": "execute_result"
    }
   ],
   "source": [
    "train.tail(10)"
   ]
  },
  {
   "cell_type": "code",
   "execution_count": 12,
   "metadata": {
    "_uuid": "7c9707a475a27a82d2d78cf4cfb7ad0270abba9f",
    "execution": {
     "iopub.execute_input": "2022-04-26T19:13:56.847852Z",
     "iopub.status.busy": "2022-04-26T19:13:56.847584Z",
     "iopub.status.idle": "2022-04-26T19:13:58.328647Z",
     "shell.execute_reply": "2022-04-26T19:13:58.327534Z",
     "shell.execute_reply.started": "2022-04-26T19:13:56.847799Z"
    }
   },
   "outputs": [
    {
     "data": {
      "text/plain": [
       "<fbprophet.forecaster.Prophet at 0x7f1344395748>"
      ]
     },
     "execution_count": 12,
     "metadata": {},
     "output_type": "execute_result"
    }
   ],
   "source": [
    "m = Prophet(daily_seasonality=False)\n",
    "# m.add_seasonality(name='yearly', period=12, fourier_order=5)\n",
    "m.fit(train)"
   ]
  },
  {
   "cell_type": "code",
   "execution_count": 13,
   "metadata": {
    "_uuid": "1b3b719357e1c0e69573d9c1514d820e34dfe57c",
    "execution": {
     "iopub.execute_input": "2022-04-26T19:13:58.330570Z",
     "iopub.status.busy": "2022-04-26T19:13:58.330230Z",
     "iopub.status.idle": "2022-04-26T19:14:02.277544Z",
     "shell.execute_reply": "2022-04-26T19:14:02.276886Z",
     "shell.execute_reply.started": "2022-04-26T19:13:58.330507Z"
    }
   },
   "outputs": [
    {
     "data": {
      "text/html": [
       "<div>\n",
       "<style scoped>\n",
       "    .dataframe tbody tr th:only-of-type {\n",
       "        vertical-align: middle;\n",
       "    }\n",
       "\n",
       "    .dataframe tbody tr th {\n",
       "        vertical-align: top;\n",
       "    }\n",
       "\n",
       "    .dataframe thead th {\n",
       "        text-align: right;\n",
       "    }\n",
       "</style>\n",
       "<table border=\"1\" class=\"dataframe\">\n",
       "  <thead>\n",
       "    <tr style=\"text-align: right;\">\n",
       "      <th></th>\n",
       "      <th>ds</th>\n",
       "      <th>yhat</th>\n",
       "      <th>yhat_lower</th>\n",
       "      <th>yhat_upper</th>\n",
       "    </tr>\n",
       "  </thead>\n",
       "  <tbody>\n",
       "    <tr>\n",
       "      <th>534</th>\n",
       "      <td>2022-02-11</td>\n",
       "      <td>86.633013</td>\n",
       "      <td>85.301725</td>\n",
       "      <td>87.965309</td>\n",
       "    </tr>\n",
       "    <tr>\n",
       "      <th>535</th>\n",
       "      <td>2022-02-12</td>\n",
       "      <td>86.583774</td>\n",
       "      <td>85.202038</td>\n",
       "      <td>87.933748</td>\n",
       "    </tr>\n",
       "    <tr>\n",
       "      <th>536</th>\n",
       "      <td>2022-02-14</td>\n",
       "      <td>86.387183</td>\n",
       "      <td>85.012308</td>\n",
       "      <td>87.725910</td>\n",
       "    </tr>\n",
       "    <tr>\n",
       "      <th>537</th>\n",
       "      <td>2022-02-15</td>\n",
       "      <td>86.234739</td>\n",
       "      <td>84.863287</td>\n",
       "      <td>87.558242</td>\n",
       "    </tr>\n",
       "    <tr>\n",
       "      <th>538</th>\n",
       "      <td>2022-02-16</td>\n",
       "      <td>86.042788</td>\n",
       "      <td>84.601105</td>\n",
       "      <td>87.451411</td>\n",
       "    </tr>\n",
       "    <tr>\n",
       "      <th>539</th>\n",
       "      <td>2022-02-17</td>\n",
       "      <td>86.020894</td>\n",
       "      <td>84.747891</td>\n",
       "      <td>87.348044</td>\n",
       "    </tr>\n",
       "    <tr>\n",
       "      <th>540</th>\n",
       "      <td>2022-02-18</td>\n",
       "      <td>85.853771</td>\n",
       "      <td>84.542612</td>\n",
       "      <td>87.126119</td>\n",
       "    </tr>\n",
       "    <tr>\n",
       "      <th>541</th>\n",
       "      <td>2022-02-19</td>\n",
       "      <td>85.838163</td>\n",
       "      <td>84.568964</td>\n",
       "      <td>87.070940</td>\n",
       "    </tr>\n",
       "    <tr>\n",
       "      <th>542</th>\n",
       "      <td>2022-02-20</td>\n",
       "      <td>85.478111</td>\n",
       "      <td>84.226456</td>\n",
       "      <td>86.812593</td>\n",
       "    </tr>\n",
       "    <tr>\n",
       "      <th>543</th>\n",
       "      <td>2022-02-21</td>\n",
       "      <td>85.760540</td>\n",
       "      <td>84.363385</td>\n",
       "      <td>87.034214</td>\n",
       "    </tr>\n",
       "    <tr>\n",
       "      <th>544</th>\n",
       "      <td>2022-02-22</td>\n",
       "      <td>85.692690</td>\n",
       "      <td>84.405527</td>\n",
       "      <td>87.006233</td>\n",
       "    </tr>\n",
       "    <tr>\n",
       "      <th>545</th>\n",
       "      <td>2022-02-23</td>\n",
       "      <td>85.600989</td>\n",
       "      <td>84.246290</td>\n",
       "      <td>86.947503</td>\n",
       "    </tr>\n",
       "    <tr>\n",
       "      <th>546</th>\n",
       "      <td>2022-02-24</td>\n",
       "      <td>85.693745</td>\n",
       "      <td>84.302183</td>\n",
       "      <td>87.104066</td>\n",
       "    </tr>\n",
       "    <tr>\n",
       "      <th>547</th>\n",
       "      <td>2022-02-25</td>\n",
       "      <td>85.654089</td>\n",
       "      <td>84.320457</td>\n",
       "      <td>87.049287</td>\n",
       "    </tr>\n",
       "    <tr>\n",
       "      <th>548</th>\n",
       "      <td>2022-02-26</td>\n",
       "      <td>85.776866</td>\n",
       "      <td>84.455045</td>\n",
       "      <td>87.095255</td>\n",
       "    </tr>\n",
       "    <tr>\n",
       "      <th>549</th>\n",
       "      <td>2022-02-27</td>\n",
       "      <td>85.563939</td>\n",
       "      <td>84.159969</td>\n",
       "      <td>86.957347</td>\n",
       "    </tr>\n",
       "    <tr>\n",
       "      <th>550</th>\n",
       "      <td>2022-02-28</td>\n",
       "      <td>85.999815</td>\n",
       "      <td>84.655871</td>\n",
       "      <td>87.327291</td>\n",
       "    </tr>\n",
       "    <tr>\n",
       "      <th>551</th>\n",
       "      <td>2022-03-01</td>\n",
       "      <td>86.089113</td>\n",
       "      <td>84.682053</td>\n",
       "      <td>87.387004</td>\n",
       "    </tr>\n",
       "  </tbody>\n",
       "</table>\n",
       "</div>"
      ],
      "text/plain": [
       "            ds       yhat  yhat_lower  yhat_upper\n",
       "534 2022-02-11  86.633013   85.301725   87.965309\n",
       "535 2022-02-12  86.583774   85.202038   87.933748\n",
       "536 2022-02-14  86.387183   85.012308   87.725910\n",
       "537 2022-02-15  86.234739   84.863287   87.558242\n",
       "538 2022-02-16  86.042788   84.601105   87.451411\n",
       "539 2022-02-17  86.020894   84.747891   87.348044\n",
       "540 2022-02-18  85.853771   84.542612   87.126119\n",
       "541 2022-02-19  85.838163   84.568964   87.070940\n",
       "542 2022-02-20  85.478111   84.226456   86.812593\n",
       "543 2022-02-21  85.760540   84.363385   87.034214\n",
       "544 2022-02-22  85.692690   84.405527   87.006233\n",
       "545 2022-02-23  85.600989   84.246290   86.947503\n",
       "546 2022-02-24  85.693745   84.302183   87.104066\n",
       "547 2022-02-25  85.654089   84.320457   87.049287\n",
       "548 2022-02-26  85.776866   84.455045   87.095255\n",
       "549 2022-02-27  85.563939   84.159969   86.957347\n",
       "550 2022-02-28  85.999815   84.655871   87.327291\n",
       "551 2022-03-01  86.089113   84.682053   87.387004"
      ]
     },
     "execution_count": 13,
     "metadata": {},
     "output_type": "execute_result"
    }
   ],
   "source": [
    "future = m.make_future_dataframe(periods=12)\n",
    "forecast = m.predict(future)\n",
    "forecast[['ds', 'yhat', 'yhat_lower', 'yhat_upper']].tail(18)"
   ]
  },
  {
   "cell_type": "code",
   "execution_count": 14,
   "metadata": {
    "_uuid": "4ec17ed822da10ed00f1b3f71f7748fe6369be53",
    "execution": {
     "iopub.execute_input": "2022-04-26T19:14:02.278917Z",
     "iopub.status.busy": "2022-04-26T19:14:02.278528Z",
     "iopub.status.idle": "2022-04-26T19:14:02.627281Z",
     "shell.execute_reply": "2022-04-26T19:14:02.626190Z",
     "shell.execute_reply.started": "2022-04-26T19:14:02.278874Z"
    }
   },
   "outputs": [
    {
     "data": {
      "image/png": "[encoded data removed]",
      "text/plain": [
       "<Figure size 720x432 with 1 Axes>"
      ]
     },
     "metadata": {},
     "output_type": "display_data"
    }
   ],
   "source": [
    "figure = m.plot(forecast)"
   ]
  },
  {
   "cell_type": "code",
   "execution_count": 15,
   "metadata": {
    "execution": {
     "iopub.execute_input": "2022-04-26T19:14:02.628931Z",
     "iopub.status.busy": "2022-04-26T19:14:02.628521Z",
     "iopub.status.idle": "2022-04-26T19:14:02.711411Z",
     "shell.execute_reply": "2022-04-26T19:14:02.710388Z",
     "shell.execute_reply.started": "2022-04-26T19:14:02.628888Z"
    }
   },
   "outputs": [
    {
     "name": "stdout",
     "output_type": "stream",
     "text": [
      "MAPE (средняя абсолютная ошибка в процентах) –  1.0192326190677568 %\n",
      "MAE (средняя абсолютная ошибка) –  0.8861512579357943\n"
     ]
    }
   ],
   "source": [
    "# Смотрим на ошибки модели\n",
    "predictions = 30\n",
    "cmp_df = forecast.set_index('ds')[['yhat', 'yhat_lower', 'yhat_upper']].join(train.set_index('ds'))\n",
    "cmp_df['e'] = cmp_df['y'] - cmp_df['yhat']\n",
    "cmp_df['p'] = 100*cmp_df['e']/cmp_df['y']\n",
    "print('MAPE (средняя абсолютная ошибка в процентах) – ', np.mean(abs(cmp_df[-predictions:]['p'])),'%')\n",
    "print('MAE (средняя абсолютная ошибка) – ', np.mean(abs(cmp_df[-predictions:]['e'])))"
   ]
  },
  {
   "cell_type": "code",
   "execution_count": 16,
   "metadata": {
    "_uuid": "91d281ed2e62d65e5b7303540af12c91b9b363af",
    "execution": {
     "iopub.execute_input": "2022-04-26T19:14:02.713183Z",
     "iopub.status.busy": "2022-04-26T19:14:02.712804Z",
     "iopub.status.idle": "2022-04-26T19:14:03.653820Z",
     "shell.execute_reply": "2022-04-26T19:14:03.653046Z",
     "shell.execute_reply.started": "2022-04-26T19:14:02.713144Z"
    }
   },
   "outputs": [
    {
     "data": {
      "image/png": "[encoded data removed]",
      "text/plain": [
       "<Figure size 648x648 with 3 Axes>"
      ]
     },
     "metadata": {},
     "output_type": "display_data"
    }
   ],
   "source": [
    "fig_decompose = m.plot_components(forecast)"
   ]
  }
 ],
 "metadata": {
  "kernelspec": {
   "display_name": "Python 3",
   "language": "python",
   "name": "python3"
  },
  "language_info": {
   "codemirror_mode": {
    "name": "ipython",
    "version": 3
   },
   "file_extension": ".py",
   "mimetype": "text/x-python",
   "name": "python",
   "nbconvert_exporter": "python",
   "pygments_lexer": "ipython3",
   "version": "3.6.4"
  }
 },
 "nbformat": 4,
 "nbformat_minor": 4
}
