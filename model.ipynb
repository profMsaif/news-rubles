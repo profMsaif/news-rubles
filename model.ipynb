{
 "cells": [
  {
   "cell_type": "code",
   "execution_count": 1,
   "id": "1faf925e",
   "metadata": {
    "_cell_guid": "b1076dfc-b9ad-4769-8c92-a6c4dae69d19",
    "_uuid": "8f2839f25d086af736a60e9eeb907d3b93b6e0e5",
    "execution": {
     "iopub.execute_input": "2022-05-16T16:46:12.590475Z",
     "iopub.status.busy": "2022-05-16T16:46:12.589862Z",
     "iopub.status.idle": "2022-05-16T16:46:25.247679Z",
     "shell.execute_reply": "2022-05-16T16:46:25.246700Z"
    },
    "papermill": {
     "duration": 12.672817,
     "end_time": "2022-05-16T16:46:25.250924",
     "exception": false,
     "start_time": "2022-05-16T16:46:12.578107",
     "status": "completed"
    },
    "tags": []
   },
   "outputs": [
    {
     "name": "stdout",
     "output_type": "stream",
     "text": [
      "Collecting yfinance\r\n",
      "  Downloading yfinance-0.1.70-py2.py3-none-any.whl (26 kB)\r\n",
      "Requirement already satisfied: requests>=2.26 in /opt/conda/lib/python3.7/site-packages (from yfinance) (2.27.1)\r\n",
      "Requirement already satisfied: numpy>=1.15 in /opt/conda/lib/python3.7/site-packages (from yfinance) (1.21.6)\r\n",
      "Requirement already satisfied: pandas>=0.24.0 in /opt/conda/lib/python3.7/site-packages (from yfinance) (1.3.5)\r\n",
      "Requirement already satisfied: lxml>=4.5.1 in /opt/conda/lib/python3.7/site-packages (from yfinance) (4.8.0)\r\n",
      "Collecting multitasking>=0.0.7\r\n",
      "  Downloading multitasking-0.0.10.tar.gz (8.2 kB)\r\n",
      "  Preparing metadata (setup.py) ... \u001b[?25l-\b \bdone\r\n",
      "\u001b[?25hRequirement already satisfied: python-dateutil>=2.7.3 in /opt/conda/lib/python3.7/site-packages (from pandas>=0.24.0->yfinance) (2.8.2)\r\n",
      "Requirement already satisfied: pytz>=2017.3 in /opt/conda/lib/python3.7/site-packages (from pandas>=0.24.0->yfinance) (2021.3)\r\n",
      "Requirement already satisfied: urllib3<1.27,>=1.21.1 in /opt/conda/lib/python3.7/site-packages (from requests>=2.26->yfinance) (1.26.8)\r\n",
      "Requirement already satisfied: idna<4,>=2.5 in /opt/conda/lib/python3.7/site-packages (from requests>=2.26->yfinance) (3.3)\r\n",
      "Requirement already satisfied: charset-normalizer~=2.0.0 in /opt/conda/lib/python3.7/site-packages (from requests>=2.26->yfinance) (2.0.12)\r\n",
      "Requirement already satisfied: certifi>=2017.4.17 in /opt/conda/lib/python3.7/site-packages (from requests>=2.26->yfinance) (2021.10.8)\r\n",
      "Requirement already satisfied: six>=1.5 in /opt/conda/lib/python3.7/site-packages (from python-dateutil>=2.7.3->pandas>=0.24.0->yfinance) (1.16.0)\r\n",
      "Building wheels for collected packages: multitasking\r\n",
      "  Building wheel for multitasking (setup.py) ... \u001b[?25l-\b \b\\\b \bdone\r\n",
      "\u001b[?25h  Created wheel for multitasking: filename=multitasking-0.0.10-py3-none-any.whl size=8500 sha256=7bacd4c78bab33e738a908874463ed68c585b79791d875a5c8fe03fb5064d019\r\n",
      "  Stored in directory: /root/.cache/pip/wheels/34/ba/79/c0260c6f1a03f420ec7673eff9981778f293b9107974679e36\r\n",
      "Successfully built multitasking\r\n",
      "Installing collected packages: multitasking, yfinance\r\n",
      "Successfully installed multitasking-0.0.10 yfinance-0.1.70\r\n",
      "\u001b[33mWARNING: Running pip as the 'root' user can result in broken permissions and conflicting behaviour with the system package manager. It is recommended to use a virtual environment instead: https://pip.pypa.io/warnings/venv\u001b[0m\u001b[33m\r\n",
      "\u001b[0m"
     ]
    }
   ],
   "source": [
    "!pip install yfinance"
   ]
  },
  {
   "cell_type": "code",
   "execution_count": 2,
   "id": "261f3aad",
   "metadata": {
    "execution": {
     "iopub.execute_input": "2022-05-16T16:46:25.279738Z",
     "iopub.status.busy": "2022-05-16T16:46:25.279403Z",
     "iopub.status.idle": "2022-05-16T16:48:28.378145Z",
     "shell.execute_reply": "2022-05-16T16:48:28.377067Z"
    },
    "papermill": {
     "duration": 123.115968,
     "end_time": "2022-05-16T16:48:28.380467",
     "exception": false,
     "start_time": "2022-05-16T16:46:25.264499",
     "status": "completed"
    },
    "tags": []
   },
   "outputs": [
    {
     "name": "stdout",
     "output_type": "stream",
     "text": [
      "Collecting fbprophet\r\n",
      "  Downloading fbprophet-0.7.1.tar.gz (64 kB)\r\n",
      "\u001b[2K     \u001b[90m━━━━━━━━━━━━━━━━━━━━━━━━━━━━━━━━━━━━━━━━\u001b[0m \u001b[32m64.0/64.0 KB\u001b[0m \u001b[31m2.1 MB/s\u001b[0m eta \u001b[36m0:00:00\u001b[0m\r\n",
      "\u001b[?25h  Preparing metadata (setup.py) ... \u001b[?25l-\b \bdone\r\n",
      "\u001b[?25hRequirement already satisfied: Cython>=0.22 in /opt/conda/lib/python3.7/site-packages (from fbprophet) (0.29.28)\r\n",
      "Collecting cmdstanpy==0.9.5\r\n",
      "  Downloading cmdstanpy-0.9.5-py3-none-any.whl (37 kB)\r\n",
      "Requirement already satisfied: pystan>=2.14 in /opt/conda/lib/python3.7/site-packages (from fbprophet) (2.19.1.1)\r\n",
      "Requirement already satisfied: numpy>=1.15.4 in /opt/conda/lib/python3.7/site-packages (from fbprophet) (1.21.6)\r\n",
      "Requirement already satisfied: pandas>=1.0.4 in /opt/conda/lib/python3.7/site-packages (from fbprophet) (1.3.5)\r\n",
      "Requirement already satisfied: matplotlib>=2.0.0 in /opt/conda/lib/python3.7/site-packages (from fbprophet) (3.5.2)\r\n",
      "Requirement already satisfied: LunarCalendar>=0.0.9 in /opt/conda/lib/python3.7/site-packages (from fbprophet) (0.0.9)\r\n",
      "Requirement already satisfied: convertdate>=2.1.2 in /opt/conda/lib/python3.7/site-packages (from fbprophet) (2.4.0)\r\n",
      "Requirement already satisfied: holidays>=0.10.2 in /opt/conda/lib/python3.7/site-packages (from fbprophet) (0.13)\r\n",
      "Requirement already satisfied: setuptools-git>=1.2 in /opt/conda/lib/python3.7/site-packages (from fbprophet) (1.2)\r\n",
      "Requirement already satisfied: python-dateutil>=2.8.0 in /opt/conda/lib/python3.7/site-packages (from fbprophet) (2.8.2)\r\n",
      "Requirement already satisfied: tqdm>=4.36.1 in /opt/conda/lib/python3.7/site-packages (from fbprophet) (4.63.0)\r\n",
      "Requirement already satisfied: pymeeus<=1,>=0.3.13 in /opt/conda/lib/python3.7/site-packages (from convertdate>=2.1.2->fbprophet) (0.5.11)\r\n",
      "Requirement already satisfied: hijri-converter in /opt/conda/lib/python3.7/site-packages (from holidays>=0.10.2->fbprophet) (2.2.3)\r\n",
      "Requirement already satisfied: korean-lunar-calendar in /opt/conda/lib/python3.7/site-packages (from holidays>=0.10.2->fbprophet) (0.2.1)\r\n",
      "Requirement already satisfied: pytz in /opt/conda/lib/python3.7/site-packages (from LunarCalendar>=0.0.9->fbprophet) (2021.3)\r\n",
      "Requirement already satisfied: ephem>=3.7.5.3 in /opt/conda/lib/python3.7/site-packages (from LunarCalendar>=0.0.9->fbprophet) (4.1.3)\r\n",
      "Requirement already satisfied: pillow>=6.2.0 in /opt/conda/lib/python3.7/site-packages (from matplotlib>=2.0.0->fbprophet) (9.0.1)\r\n",
      "Requirement already satisfied: cycler>=0.10 in /opt/conda/lib/python3.7/site-packages (from matplotlib>=2.0.0->fbprophet) (0.11.0)\r\n",
      "Requirement already satisfied: pyparsing>=2.2.1 in /opt/conda/lib/python3.7/site-packages (from matplotlib>=2.0.0->fbprophet) (3.0.7)\r\n",
      "Requirement already satisfied: fonttools>=4.22.0 in /opt/conda/lib/python3.7/site-packages (from matplotlib>=2.0.0->fbprophet) (4.30.0)\r\n",
      "Requirement already satisfied: kiwisolver>=1.0.1 in /opt/conda/lib/python3.7/site-packages (from matplotlib>=2.0.0->fbprophet) (1.4.0)\r\n",
      "Requirement already satisfied: packaging>=20.0 in /opt/conda/lib/python3.7/site-packages (from matplotlib>=2.0.0->fbprophet) (21.3)\r\n",
      "Requirement already satisfied: six>=1.5 in /opt/conda/lib/python3.7/site-packages (from python-dateutil>=2.8.0->fbprophet) (1.16.0)\r\n",
      "Requirement already satisfied: typing-extensions in /opt/conda/lib/python3.7/site-packages (from kiwisolver>=1.0.1->matplotlib>=2.0.0->fbprophet) (4.2.0)\r\n",
      "Building wheels for collected packages: fbprophet\r\n",
      "  Building wheel for fbprophet (setup.py) ... \u001b[?25l-\b \b\\\b \bdone\r\n",
      "\u001b[?25h  Created wheel for fbprophet: filename=fbprophet-0.7.1-py3-none-any.whl size=9432339 sha256=995966932e6ec95fcd41cdc916082569c59b10bf04556197e2ad077b02075bcf\r\n",
      "  Stored in directory: /root/.cache/pip/wheels/cd/a1/12/db63ff624de492fe6cccf676091a0860fdde2ffde4bc3280e2\r\n",
      "Successfully built fbprophet\r\n",
      "Installing collected packages: cmdstanpy, fbprophet\r\n",
      "  Attempting uninstall: cmdstanpy\r\n",
      "    Found existing installation: cmdstanpy 0.9.68\r\n",
      "    Uninstalling cmdstanpy-0.9.68:\r\n",
      "      Successfully uninstalled cmdstanpy-0.9.68\r\n",
      "\u001b[31mERROR: pip's dependency resolver does not currently take into account all the packages that are installed. This behaviour is the source of the following dependency conflicts.\r\n",
      "prophet 1.0.1 requires cmdstanpy==0.9.68, but you have cmdstanpy 0.9.5 which is incompatible.\u001b[0m\u001b[31m\r\n",
      "\u001b[0mSuccessfully installed cmdstanpy-0.9.5 fbprophet-0.7.1\r\n",
      "\u001b[33mWARNING: Running pip as the 'root' user can result in broken permissions and conflicting behaviour with the system package manager. It is recommended to use a virtual environment instead: https://pip.pypa.io/warnings/venv\u001b[0m\u001b[33m\r\n",
      "\u001b[0m"
     ]
    }
   ],
   "source": [
    "!pip install fbprophet"
   ]
  },
  {
   "cell_type": "code",
   "execution_count": 3,
   "id": "bded874b",
   "metadata": {
    "execution": {
     "iopub.execute_input": "2022-05-16T16:48:28.418183Z",
     "iopub.status.busy": "2022-05-16T16:48:28.417807Z",
     "iopub.status.idle": "2022-05-16T16:48:29.165654Z",
     "shell.execute_reply": "2022-05-16T16:48:29.164776Z"
    },
    "papermill": {
     "duration": 0.769468,
     "end_time": "2022-05-16T16:48:29.168161",
     "exception": false,
     "start_time": "2022-05-16T16:48:28.398693",
     "status": "completed"
    },
    "tags": []
   },
   "outputs": [],
   "source": [
    "# essentials\n",
    "import numpy as np \n",
    "import pandas as pd \n",
    "import math\n",
    "import datetime\n",
    "from datetime import datetime as dt\n",
    "import yfinance as yf\n",
    "# visualizations\n",
    "import matplotlib.pyplot as plt\n",
    "import seaborn as sns\n",
    "from fbprophet.diagnostics import cross_validation\n",
    "from fbprophet.plot import plot_cross_validation_metric\n",
    "from plotly.offline import download_plotlyjs, init_notebook_mode, plot, iplot\n",
    "import plotly.graph_objs as go\n",
    "# time series algorithm\n",
    "from fbprophet import Prophet\n",
    "from fbprophet.diagnostics import performance_metrics\n",
    "from fbprophet.diagnostics import cross_validation\n",
    "# reproducibility\n",
    "np.random.seed(34)\n",
    "\n",
    "# Jupyter magic\n",
    "%reload_ext autoreload\n",
    "%autoreload 2\n",
    "%matplotlib inline\n",
    "\n",
    "sns.set()"
   ]
  },
  {
   "cell_type": "code",
   "execution_count": 4,
   "id": "99e40784",
   "metadata": {
    "execution": {
     "iopub.execute_input": "2022-05-16T16:48:29.205008Z",
     "iopub.status.busy": "2022-05-16T16:48:29.204690Z",
     "iopub.status.idle": "2022-05-16T16:48:29.240391Z",
     "shell.execute_reply": "2022-05-16T16:48:29.239035Z"
    },
    "papermill": {
     "duration": 0.05727,
     "end_time": "2022-05-16T16:48:29.242974",
     "exception": false,
     "start_time": "2022-05-16T16:48:29.185704",
     "status": "completed"
    },
    "tags": []
   },
   "outputs": [],
   "source": [
    "\n",
    "# class model_prophet:\n",
    "#     def get_data(self):\n",
    "#         data_usdrub = yf.download('USDRUB=X', start='2017-01-01', end=datetime.datetime.now().date())\n",
    "#         data_eurub = yf.download('EURRUB=X', start='2017-01-01', end=datetime.datetime.now().date())\n",
    "#         return data_usdrub,data_eurub\n",
    "#     def ml_model(self,df):\n",
    "#         train_columns = ['Close']\n",
    "#         train = df[train_columns]\n",
    "#         train = train.rename(columns={'Close':'y'})\n",
    "#         train.index.names =['ds']\n",
    "#         train =train.reset_index()\n",
    "#         df = df.rename(columns={'Close':'y'})\n",
    "#         df.index.names =['ds']\n",
    "#         df =train.reset_index()\n",
    "    \n",
    "#         m = Prophet(daily_seasonality=False,yearly_seasonality=True,\n",
    "#             weekly_seasonality= True,changepoint_prior_scale= 0.05, \n",
    "#             seasonality_prior_scale= 20.0, holidays_prior_scale= 5.0)\n",
    "#         m.fit(train)\n",
    "    \n",
    "#         future = m.make_future_dataframe(periods=30)\n",
    "#         forecast = m.predict(future)\n",
    "    \n",
    "#         return forecast\n",
    "#     def get_forecast(self,df):\n",
    "#         forecast = ml_model(df)\n",
    "#         forecast = forecast[['ds','yhat_lower']][-30:]\n",
    "#         return forecast\n",
    "#     def ml_predict(self,usd=True,eur=True):\n",
    "#         df_usdrub,df_eurub=get_data()\n",
    "#         if usd==True:\n",
    "#             forecast_usdrub = get_forecast(df_usdrub)\n",
    "#             return forecast_usdrub\n",
    "#         if eur==True:\n",
    "#             forecast_eurub = get_forecast(df_eurub)\n",
    "#             return forecast_eurub"
   ]
  },
  {
   "cell_type": "code",
   "execution_count": 5,
   "id": "8bf1d7a3",
   "metadata": {
    "execution": {
     "iopub.execute_input": "2022-05-16T16:48:29.279408Z",
     "iopub.status.busy": "2022-05-16T16:48:29.279127Z",
     "iopub.status.idle": "2022-05-16T16:48:29.313820Z",
     "shell.execute_reply": "2022-05-16T16:48:29.312915Z"
    },
    "papermill": {
     "duration": 0.055591,
     "end_time": "2022-05-16T16:48:29.315987",
     "exception": false,
     "start_time": "2022-05-16T16:48:29.260396",
     "status": "completed"
    },
    "tags": []
   },
   "outputs": [],
   "source": [
    "def get_data():\n",
    "    data_usdrub = yf.download('USDRUB=X', start='2017-01-01', end=datetime.datetime.now().date())\n",
    "    data_eurub = yf.download('EURRUB=X', start='2017-01-01', end=datetime.datetime.now().date())\n",
    "    return data_usdrub,data_eurub"
   ]
  },
  {
   "cell_type": "code",
   "execution_count": 6,
   "id": "5f84228f",
   "metadata": {
    "execution": {
     "iopub.execute_input": "2022-05-16T16:48:29.353796Z",
     "iopub.status.busy": "2022-05-16T16:48:29.353264Z",
     "iopub.status.idle": "2022-05-16T16:48:29.387966Z",
     "shell.execute_reply": "2022-05-16T16:48:29.387370Z"
    },
    "papermill": {
     "duration": 0.055813,
     "end_time": "2022-05-16T16:48:29.389970",
     "exception": false,
     "start_time": "2022-05-16T16:48:29.334157",
     "status": "completed"
    },
    "tags": []
   },
   "outputs": [],
   "source": [
    "def ml_model(df):\n",
    "    train_columns = ['Close']\n",
    "    train = df[train_columns]\n",
    "    train = train.rename(columns={'Close':'y'})\n",
    "    train.index.names =['ds']\n",
    "    train =train.reset_index()\n",
    "    df = df.rename(columns={'Close':'y'})\n",
    "    df.index.names =['ds']\n",
    "    df =train.reset_index()\n",
    "    \n",
    "    m = Prophet(daily_seasonality=False,yearly_seasonality=True,\n",
    "            weekly_seasonality= True,changepoint_prior_scale= 0.05, \n",
    "            seasonality_prior_scale= 20.0, holidays_prior_scale= 5.0)\n",
    "    m.fit(train)\n",
    "    \n",
    "    future = m.make_future_dataframe(periods=30)\n",
    "    forecast = m.predict(future)\n",
    "    \n",
    "    return forecast\n",
    "    \n",
    "    "
   ]
  },
  {
   "cell_type": "code",
   "execution_count": 7,
   "id": "8d877082",
   "metadata": {
    "execution": {
     "iopub.execute_input": "2022-05-16T16:48:29.427871Z",
     "iopub.status.busy": "2022-05-16T16:48:29.427369Z",
     "iopub.status.idle": "2022-05-16T16:48:29.461596Z",
     "shell.execute_reply": "2022-05-16T16:48:29.460962Z"
    },
    "papermill": {
     "duration": 0.055629,
     "end_time": "2022-05-16T16:48:29.463686",
     "exception": false,
     "start_time": "2022-05-16T16:48:29.408057",
     "status": "completed"
    },
    "tags": []
   },
   "outputs": [],
   "source": [
    "def get_forecast(df):\n",
    "    forecast = ml_model(df)\n",
    "    forecast = forecast[['ds','yhat_lower']][-30:]\n",
    "    return forecast"
   ]
  },
  {
   "cell_type": "code",
   "execution_count": 8,
   "id": "6542954b",
   "metadata": {
    "execution": {
     "iopub.execute_input": "2022-05-16T16:48:29.500631Z",
     "iopub.status.busy": "2022-05-16T16:48:29.500356Z",
     "iopub.status.idle": "2022-05-16T16:48:29.534515Z",
     "shell.execute_reply": "2022-05-16T16:48:29.533892Z"
    },
    "papermill": {
     "duration": 0.055503,
     "end_time": "2022-05-16T16:48:29.536740",
     "exception": false,
     "start_time": "2022-05-16T16:48:29.481237",
     "status": "completed"
    },
    "tags": []
   },
   "outputs": [],
   "source": [
    "def ml_predict(usd=True,eur=True):\n",
    "    df_usdrub,df_eurub=get_data()\n",
    "    if usd==True:\n",
    "        forecast_usdrub = get_forecast(df_usdrub)\n",
    "        return forecast_usdrub\n",
    "    if eur==True:\n",
    "        forecast_eurub = get_forecast(df_eurub)\n",
    "        return forecast_eurub\n",
    "        \n",
    "    "
   ]
  },
  {
   "cell_type": "code",
   "execution_count": 9,
   "id": "bddde385",
   "metadata": {
    "execution": {
     "iopub.execute_input": "2022-05-16T16:48:29.575492Z",
     "iopub.status.busy": "2022-05-16T16:48:29.574635Z",
     "iopub.status.idle": "2022-05-16T16:48:35.288195Z",
     "shell.execute_reply": "2022-05-16T16:48:35.287216Z"
    },
    "papermill": {
     "duration": 5.735847,
     "end_time": "2022-05-16T16:48:35.290941",
     "exception": false,
     "start_time": "2022-05-16T16:48:29.555094",
     "status": "completed"
    },
    "tags": []
   },
   "outputs": [
    {
     "name": "stdout",
     "output_type": "stream",
     "text": [
      "[*********************100%***********************]  1 of 1 completed\n",
      "[*********************100%***********************]  1 of 1 completed\n",
      "Initial log joint probability = -10.6289\n",
      "    Iter      log prob        ||dx||      ||grad||       alpha      alpha0  # evals  Notes \n",
      "Error evaluating model log probability: Non-finite gradient.\n",
      "\n",
      "      99          3667    0.00241697       315.065      0.4793      0.4793      132   \n",
      "    Iter      log prob        ||dx||      ||grad||       alpha      alpha0  # evals  Notes \n",
      "     199       3673.04   0.000584873       241.665       0.697       0.697      253   \n",
      "    Iter      log prob        ||dx||      ||grad||       alpha      alpha0  # evals  Notes \n",
      "     299       3675.16    0.00168847       83.5736      0.6786           1      384   \n",
      "    Iter      log prob        ||dx||      ||grad||       alpha      alpha0  # evals  Notes \n",
      "     302       3675.17   0.000232265       79.2928   3.304e-06       0.001      422  LS failed, Hessian reset \n",
      "     333       3675.25   6.04667e-05       74.3478    5.43e-07       0.001      496  LS failed, Hessian reset \n",
      "     364        3675.3   1.41216e-07       48.1578   2.653e-09       0.001      577  LS failed, Hessian reset \n",
      "Optimization terminated normally: \n",
      "  Convergence detected: relative gradient magnitude is below tolerance\n"
     ]
    }
   ],
   "source": [
    "usdp = ml_predict(usd=False)"
   ]
  },
  {
   "cell_type": "code",
   "execution_count": 10,
   "id": "3c058c45",
   "metadata": {
    "execution": {
     "iopub.execute_input": "2022-05-16T16:48:35.331213Z",
     "iopub.status.busy": "2022-05-16T16:48:35.330870Z",
     "iopub.status.idle": "2022-05-16T16:48:35.378996Z",
     "shell.execute_reply": "2022-05-16T16:48:35.378159Z"
    },
    "papermill": {
     "duration": 0.071028,
     "end_time": "2022-05-16T16:48:35.380860",
     "exception": false,
     "start_time": "2022-05-16T16:48:35.309832",
     "status": "completed"
    },
    "tags": []
   },
   "outputs": [
    {
     "data": {
      "text/html": [
       "<div>\n",
       "<style scoped>\n",
       "    .dataframe tbody tr th:only-of-type {\n",
       "        vertical-align: middle;\n",
       "    }\n",
       "\n",
       "    .dataframe tbody tr th {\n",
       "        vertical-align: top;\n",
       "    }\n",
       "\n",
       "    .dataframe thead th {\n",
       "        text-align: right;\n",
       "    }\n",
       "</style>\n",
       "<table border=\"1\" class=\"dataframe\">\n",
       "  <thead>\n",
       "    <tr style=\"text-align: right;\">\n",
       "      <th></th>\n",
       "      <th>ds</th>\n",
       "      <th>yhat_lower</th>\n",
       "    </tr>\n",
       "  </thead>\n",
       "  <tbody>\n",
       "    <tr>\n",
       "      <th>1399</th>\n",
       "      <td>2022-05-17</td>\n",
       "      <td>81.719597</td>\n",
       "    </tr>\n",
       "    <tr>\n",
       "      <th>1400</th>\n",
       "      <td>2022-05-18</td>\n",
       "      <td>81.123769</td>\n",
       "    </tr>\n",
       "    <tr>\n",
       "      <th>1401</th>\n",
       "      <td>2022-05-19</td>\n",
       "      <td>81.723130</td>\n",
       "    </tr>\n",
       "    <tr>\n",
       "      <th>1402</th>\n",
       "      <td>2022-05-20</td>\n",
       "      <td>81.906879</td>\n",
       "    </tr>\n",
       "    <tr>\n",
       "      <th>1403</th>\n",
       "      <td>2022-05-21</td>\n",
       "      <td>83.451029</td>\n",
       "    </tr>\n",
       "    <tr>\n",
       "      <th>1404</th>\n",
       "      <td>2022-05-22</td>\n",
       "      <td>84.184066</td>\n",
       "    </tr>\n",
       "    <tr>\n",
       "      <th>1405</th>\n",
       "      <td>2022-05-23</td>\n",
       "      <td>81.705907</td>\n",
       "    </tr>\n",
       "    <tr>\n",
       "      <th>1406</th>\n",
       "      <td>2022-05-24</td>\n",
       "      <td>82.802954</td>\n",
       "    </tr>\n",
       "    <tr>\n",
       "      <th>1407</th>\n",
       "      <td>2022-05-25</td>\n",
       "      <td>82.766335</td>\n",
       "    </tr>\n",
       "    <tr>\n",
       "      <th>1408</th>\n",
       "      <td>2022-05-26</td>\n",
       "      <td>82.441155</td>\n",
       "    </tr>\n",
       "    <tr>\n",
       "      <th>1409</th>\n",
       "      <td>2022-05-27</td>\n",
       "      <td>82.333053</td>\n",
       "    </tr>\n",
       "    <tr>\n",
       "      <th>1410</th>\n",
       "      <td>2022-05-28</td>\n",
       "      <td>85.298642</td>\n",
       "    </tr>\n",
       "    <tr>\n",
       "      <th>1411</th>\n",
       "      <td>2022-05-29</td>\n",
       "      <td>85.433888</td>\n",
       "    </tr>\n",
       "    <tr>\n",
       "      <th>1412</th>\n",
       "      <td>2022-05-30</td>\n",
       "      <td>83.591911</td>\n",
       "    </tr>\n",
       "    <tr>\n",
       "      <th>1413</th>\n",
       "      <td>2022-05-31</td>\n",
       "      <td>83.616329</td>\n",
       "    </tr>\n",
       "    <tr>\n",
       "      <th>1414</th>\n",
       "      <td>2022-06-01</td>\n",
       "      <td>83.474264</td>\n",
       "    </tr>\n",
       "    <tr>\n",
       "      <th>1415</th>\n",
       "      <td>2022-06-02</td>\n",
       "      <td>82.947840</td>\n",
       "    </tr>\n",
       "    <tr>\n",
       "      <th>1416</th>\n",
       "      <td>2022-06-03</td>\n",
       "      <td>83.540665</td>\n",
       "    </tr>\n",
       "    <tr>\n",
       "      <th>1417</th>\n",
       "      <td>2022-06-04</td>\n",
       "      <td>84.978653</td>\n",
       "    </tr>\n",
       "    <tr>\n",
       "      <th>1418</th>\n",
       "      <td>2022-06-05</td>\n",
       "      <td>85.290362</td>\n",
       "    </tr>\n",
       "    <tr>\n",
       "      <th>1419</th>\n",
       "      <td>2022-06-06</td>\n",
       "      <td>83.268242</td>\n",
       "    </tr>\n",
       "    <tr>\n",
       "      <th>1420</th>\n",
       "      <td>2022-06-07</td>\n",
       "      <td>83.481115</td>\n",
       "    </tr>\n",
       "    <tr>\n",
       "      <th>1421</th>\n",
       "      <td>2022-06-08</td>\n",
       "      <td>83.135574</td>\n",
       "    </tr>\n",
       "    <tr>\n",
       "      <th>1422</th>\n",
       "      <td>2022-06-09</td>\n",
       "      <td>82.782981</td>\n",
       "    </tr>\n",
       "    <tr>\n",
       "      <th>1423</th>\n",
       "      <td>2022-06-10</td>\n",
       "      <td>83.167469</td>\n",
       "    </tr>\n",
       "    <tr>\n",
       "      <th>1424</th>\n",
       "      <td>2022-06-11</td>\n",
       "      <td>85.042620</td>\n",
       "    </tr>\n",
       "    <tr>\n",
       "      <th>1425</th>\n",
       "      <td>2022-06-12</td>\n",
       "      <td>84.633571</td>\n",
       "    </tr>\n",
       "    <tr>\n",
       "      <th>1426</th>\n",
       "      <td>2022-06-13</td>\n",
       "      <td>82.477470</td>\n",
       "    </tr>\n",
       "    <tr>\n",
       "      <th>1427</th>\n",
       "      <td>2022-06-14</td>\n",
       "      <td>82.520320</td>\n",
       "    </tr>\n",
       "    <tr>\n",
       "      <th>1428</th>\n",
       "      <td>2022-06-15</td>\n",
       "      <td>81.966038</td>\n",
       "    </tr>\n",
       "  </tbody>\n",
       "</table>\n",
       "</div>"
      ],
      "text/plain": [
       "             ds  yhat_lower\n",
       "1399 2022-05-17   81.719597\n",
       "1400 2022-05-18   81.123769\n",
       "1401 2022-05-19   81.723130\n",
       "1402 2022-05-20   81.906879\n",
       "1403 2022-05-21   83.451029\n",
       "1404 2022-05-22   84.184066\n",
       "1405 2022-05-23   81.705907\n",
       "1406 2022-05-24   82.802954\n",
       "1407 2022-05-25   82.766335\n",
       "1408 2022-05-26   82.441155\n",
       "1409 2022-05-27   82.333053\n",
       "1410 2022-05-28   85.298642\n",
       "1411 2022-05-29   85.433888\n",
       "1412 2022-05-30   83.591911\n",
       "1413 2022-05-31   83.616329\n",
       "1414 2022-06-01   83.474264\n",
       "1415 2022-06-02   82.947840\n",
       "1416 2022-06-03   83.540665\n",
       "1417 2022-06-04   84.978653\n",
       "1418 2022-06-05   85.290362\n",
       "1419 2022-06-06   83.268242\n",
       "1420 2022-06-07   83.481115\n",
       "1421 2022-06-08   83.135574\n",
       "1422 2022-06-09   82.782981\n",
       "1423 2022-06-10   83.167469\n",
       "1424 2022-06-11   85.042620\n",
       "1425 2022-06-12   84.633571\n",
       "1426 2022-06-13   82.477470\n",
       "1427 2022-06-14   82.520320\n",
       "1428 2022-06-15   81.966038"
      ]
     },
     "execution_count": 10,
     "metadata": {},
     "output_type": "execute_result"
    }
   ],
   "source": [
    "usdp"
   ]
  }
 ],
 "metadata": {
  "kernelspec": {
   "display_name": "Python 3",
   "language": "python",
   "name": "python3"
  },
  "language_info": {
   "codemirror_mode": {
    "name": "ipython",
    "version": 3
   },
   "file_extension": ".py",
   "mimetype": "text/x-python",
   "name": "python",
   "nbconvert_exporter": "python",
   "pygments_lexer": "ipython3",
   "version": "3.7.12"
  },
  "papermill": {
   "default_parameters": {},
   "duration": 152.390359,
   "end_time": "2022-05-16T16:48:36.224392",
   "environment_variables": {},
   "exception": null,
   "input_path": "__notebook__.ipynb",
   "output_path": "__notebook__.ipynb",
   "parameters": {},
   "start_time": "2022-05-16T16:46:03.834033",
   "version": "2.3.4"
  }
 },
 "nbformat": 4,
 "nbformat_minor": 5
}
