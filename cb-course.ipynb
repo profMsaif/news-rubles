{
 "cells": [
  {
   "cell_type": "code",
   "execution_count": 1,
   "id": "7aa89ea8",
   "metadata": {
    "execution": {
     "iopub.execute_input": "2022-04-27T09:38:57.858808Z",
     "iopub.status.busy": "2022-04-27T09:38:57.858264Z",
     "iopub.status.idle": "2022-04-27T09:38:57.868336Z",
     "shell.execute_reply": "2022-04-27T09:38:57.867708Z"
    },
    "papermill": {
     "duration": 0.02974,
     "end_time": "2022-04-27T09:38:57.870471",
     "exception": false,
     "start_time": "2022-04-27T09:38:57.840731",
     "status": "completed"
    },
    "tags": []
   },
   "outputs": [],
   "source": [
    "from xml.dom import minidom\n",
    "import urllib.request\n",
    "import requests\n",
    "import pandas as pd\n",
    "import numpy as np\n",
    "import datetime as dt\n",
    "url = \"http://www.cbr.ru/scripts/XML_daily.asp\""
   ]
  },
  {
   "cell_type": "code",
   "execution_count": 2,
   "id": "b2cfa082",
   "metadata": {
    "execution": {
     "iopub.execute_input": "2022-04-27T09:38:57.902436Z",
     "iopub.status.busy": "2022-04-27T09:38:57.901687Z",
     "iopub.status.idle": "2022-04-27T09:38:58.452242Z",
     "shell.execute_reply": "2022-04-27T09:38:58.451315Z"
    },
    "papermill": {
     "duration": 0.569474,
     "end_time": "2022-04-27T09:38:58.454760",
     "exception": false,
     "start_time": "2022-04-27T09:38:57.885286",
     "status": "completed"
    },
    "tags": []
   },
   "outputs": [],
   "source": [
    "webFile = urllib.request.urlopen(url)\n",
    "data = webFile.read()"
   ]
  },
  {
   "cell_type": "code",
   "execution_count": null,
   "id": "f0d37048",
   "metadata": {
    "papermill": {
     "duration": 0.014326,
     "end_time": "2022-04-27T09:38:58.483688",
     "exception": false,
     "start_time": "2022-04-27T09:38:58.469362",
     "status": "completed"
    },
    "tags": []
   },
   "outputs": [],
   "source": []
  },
  {
   "cell_type": "code",
   "execution_count": 3,
   "id": "a7b181b2",
   "metadata": {
    "execution": {
     "iopub.execute_input": "2022-04-27T09:38:58.514876Z",
     "iopub.status.busy": "2022-04-27T09:38:58.514261Z",
     "iopub.status.idle": "2022-04-27T09:38:58.518028Z",
     "shell.execute_reply": "2022-04-27T09:38:58.517517Z"
    },
    "papermill": {
     "duration": 0.021669,
     "end_time": "2022-04-27T09:38:58.519773",
     "exception": false,
     "start_time": "2022-04-27T09:38:58.498104",
     "status": "completed"
    },
    "tags": []
   },
   "outputs": [],
   "source": [
    "UrlSplit = url.split(\"/\")[-1]"
   ]
  },
  {
   "cell_type": "code",
   "execution_count": 4,
   "id": "0f223832",
   "metadata": {
    "execution": {
     "iopub.execute_input": "2022-04-27T09:38:58.551085Z",
     "iopub.status.busy": "2022-04-27T09:38:58.550231Z",
     "iopub.status.idle": "2022-04-27T09:38:58.554293Z",
     "shell.execute_reply": "2022-04-27T09:38:58.553739Z"
    },
    "papermill": {
     "duration": 0.021825,
     "end_time": "2022-04-27T09:38:58.556262",
     "exception": false,
     "start_time": "2022-04-27T09:38:58.534437",
     "status": "completed"
    },
    "tags": []
   },
   "outputs": [],
   "source": [
    "ExtSplit = UrlSplit.split(\".\")[1]\n",
    "FileName = UrlSplit.replace(ExtSplit, \"xml\")"
   ]
  },
  {
   "cell_type": "code",
   "execution_count": 5,
   "id": "dd0f7e3c",
   "metadata": {
    "execution": {
     "iopub.execute_input": "2022-04-27T09:38:58.587606Z",
     "iopub.status.busy": "2022-04-27T09:38:58.586780Z",
     "iopub.status.idle": "2022-04-27T09:38:58.591325Z",
     "shell.execute_reply": "2022-04-27T09:38:58.590560Z"
    },
    "papermill": {
     "duration": 0.022591,
     "end_time": "2022-04-27T09:38:58.593593",
     "exception": false,
     "start_time": "2022-04-27T09:38:58.571002",
     "status": "completed"
    },
    "tags": []
   },
   "outputs": [],
   "source": [
    "with open(FileName, \"wb\") as localFile:\n",
    "    localFile.write(data)"
   ]
  },
  {
   "cell_type": "code",
   "execution_count": 6,
   "id": "66d6b828",
   "metadata": {
    "execution": {
     "iopub.execute_input": "2022-04-27T09:38:58.625103Z",
     "iopub.status.busy": "2022-04-27T09:38:58.624821Z",
     "iopub.status.idle": "2022-04-27T09:38:58.628565Z",
     "shell.execute_reply": "2022-04-27T09:38:58.627772Z"
    },
    "papermill": {
     "duration": 0.021955,
     "end_time": "2022-04-27T09:38:58.630694",
     "exception": false,
     "start_time": "2022-04-27T09:38:58.608739",
     "status": "completed"
    },
    "tags": []
   },
   "outputs": [],
   "source": [
    "webFile.close()"
   ]
  },
  {
   "cell_type": "code",
   "execution_count": 7,
   "id": "5d98f593",
   "metadata": {
    "execution": {
     "iopub.execute_input": "2022-04-27T09:38:58.662642Z",
     "iopub.status.busy": "2022-04-27T09:38:58.662142Z",
     "iopub.status.idle": "2022-04-27T09:38:58.672143Z",
     "shell.execute_reply": "2022-04-27T09:38:58.671371Z"
    },
    "papermill": {
     "duration": 0.028575,
     "end_time": "2022-04-27T09:38:58.674303",
     "exception": false,
     "start_time": "2022-04-27T09:38:58.645728",
     "status": "completed"
    },
    "tags": []
   },
   "outputs": [],
   "source": [
    "doc = minidom.parse(FileName)"
   ]
  },
  {
   "cell_type": "code",
   "execution_count": 8,
   "id": "f78136de",
   "metadata": {
    "execution": {
     "iopub.execute_input": "2022-04-27T09:38:58.704823Z",
     "iopub.status.busy": "2022-04-27T09:38:58.704561Z",
     "iopub.status.idle": "2022-04-27T09:38:58.708454Z",
     "shell.execute_reply": "2022-04-27T09:38:58.707787Z"
    },
    "papermill": {
     "duration": 0.021525,
     "end_time": "2022-04-27T09:38:58.710352",
     "exception": false,
     "start_time": "2022-04-27T09:38:58.688827",
     "status": "completed"
    },
    "tags": []
   },
   "outputs": [],
   "source": [
    "root = doc.getElementsByTagName(\"ValCurs\")[0]"
   ]
  },
  {
   "cell_type": "code",
   "execution_count": 9,
   "id": "854c8aec",
   "metadata": {
    "execution": {
     "iopub.execute_input": "2022-04-27T09:38:58.741548Z",
     "iopub.status.busy": "2022-04-27T09:38:58.741039Z",
     "iopub.status.idle": "2022-04-27T09:38:58.743968Z",
     "shell.execute_reply": "2022-04-27T09:38:58.743408Z"
    },
    "papermill": {
     "duration": 0.020701,
     "end_time": "2022-04-27T09:38:58.745708",
     "exception": false,
     "start_time": "2022-04-27T09:38:58.725007",
     "status": "completed"
    },
    "tags": []
   },
   "outputs": [],
   "source": [
    "# date = \"Текущий курс валют на {date}г. \\n\".format(date=\n",
    "# root.getAttribute('Date'))"
   ]
  },
  {
   "cell_type": "code",
   "execution_count": 10,
   "id": "204cc933",
   "metadata": {
    "execution": {
     "iopub.execute_input": "2022-04-27T09:38:58.777829Z",
     "iopub.status.busy": "2022-04-27T09:38:58.777282Z",
     "iopub.status.idle": "2022-04-27T09:38:58.780521Z",
     "shell.execute_reply": "2022-04-27T09:38:58.779940Z"
    },
    "papermill": {
     "duration": 0.022071,
     "end_time": "2022-04-27T09:38:58.782300",
     "exception": false,
     "start_time": "2022-04-27T09:38:58.760229",
     "status": "completed"
    },
    "tags": []
   },
   "outputs": [],
   "source": [
    " head = \"ID;DATE;CURRENCY_NAME;VALUE\\n\""
   ]
  },
  {
   "cell_type": "code",
   "execution_count": 11,
   "id": "017dc630",
   "metadata": {
    "execution": {
     "iopub.execute_input": "2022-04-27T09:38:58.814068Z",
     "iopub.status.busy": "2022-04-27T09:38:58.813532Z",
     "iopub.status.idle": "2022-04-27T09:38:58.817227Z",
     "shell.execute_reply": "2022-04-27T09:38:58.816625Z"
    },
    "papermill": {
     "duration": 0.022204,
     "end_time": "2022-04-27T09:38:58.819151",
     "exception": false,
     "start_time": "2022-04-27T09:38:58.796947",
     "status": "completed"
    },
    "tags": []
   },
   "outputs": [],
   "source": [
    "currency = doc.getElementsByTagName(\"Valute\")"
   ]
  },
  {
   "cell_type": "code",
   "execution_count": null,
   "id": "f3e5c512",
   "metadata": {
    "papermill": {
     "duration": 0.014978,
     "end_time": "2022-04-27T09:38:58.848701",
     "exception": false,
     "start_time": "2022-04-27T09:38:58.833723",
     "status": "completed"
    },
    "tags": []
   },
   "outputs": [],
   "source": []
  },
  {
   "cell_type": "code",
   "execution_count": 12,
   "id": "c01051bd",
   "metadata": {
    "execution": {
     "iopub.execute_input": "2022-04-27T09:38:58.879393Z",
     "iopub.status.busy": "2022-04-27T09:38:58.878868Z",
     "iopub.status.idle": "2022-04-27T09:38:58.885035Z",
     "shell.execute_reply": "2022-04-27T09:38:58.884482Z"
    },
    "papermill": {
     "duration": 0.023753,
     "end_time": "2022-04-27T09:38:58.886801",
     "exception": false,
     "start_time": "2022-04-27T09:38:58.863048",
     "status": "completed"
    },
    "tags": []
   },
   "outputs": [],
   "source": [
    "with open(\"exchange.txt\",\"w\") as out:\n",
    "    out.write(head)\n",
    "    for rate in currency:\n",
    "        sid = rate.getAttribute(\"ID\")\n",
    "        date = root.getAttribute('Date')\n",
    "        charcode = rate.getElementsByTagName(\"CharCode\")[0]\n",
    "        value = rate.getElementsByTagName(\"Value\")[0]\n",
    "        str = \"{0};{1};{2};{3}\\n\".format(sid,\n",
    "        date,\n",
    "        charcode.firstChild.data, \n",
    "        value.firstChild.data)\n",
    "        out.write(str)"
   ]
  }
 ],
 "metadata": {
  "kernelspec": {
   "display_name": "Python 3",
   "language": "python",
   "name": "python3"
  },
  "language_info": {
   "codemirror_mode": {
    "name": "ipython",
    "version": 3
   },
   "file_extension": ".py",
   "mimetype": "text/x-python",
   "name": "python",
   "nbconvert_exporter": "python",
   "pygments_lexer": "ipython3",
   "version": "3.7.12"
  },
  "papermill": {
   "default_parameters": {},
   "duration": 11.099177,
   "end_time": "2022-04-27T09:38:59.521127",
   "environment_variables": {},
   "exception": null,
   "input_path": "__notebook__.ipynb",
   "output_path": "__notebook__.ipynb",
   "parameters": {},
   "start_time": "2022-04-27T09:38:48.421950",
   "version": "2.3.4"
  }
 },
 "nbformat": 4,
 "nbformat_minor": 5
}
